{
  "nbformat": 4,
  "nbformat_minor": 0,
  "metadata": {
    "colab": {
      "name": "Bento.finalreport のコピー",
      "provenance": [],
      "collapsed_sections": [],
      "include_colab_link": true
    },
    "kernelspec": {
      "name": "python3",
      "display_name": "Python 3"
    }
  },
  "cells": [
    {
      "cell_type": "markdown",
      "metadata": {
        "id": "view-in-github",
        "colab_type": "text"
      },
      "source": [
        "<a href=\"https://colab.research.google.com/github/roy029/beginner/blob/main/Bento_finalreport_%E4%BF%9D%E5%AD%98%E7%94%A8.ipynb\" target=\"_parent\"><img src=\"https://colab.research.google.com/assets/colab-badge.svg\" alt=\"Open In Colab\"/></a>"
      ]
    },
    {
      "cell_type": "markdown",
      "metadata": {
        "id": "HuqZHZKmiide"
      },
      "source": [
        "#【レポート課題】お弁当の需要予測\n",
        "\n",
        "とある会社のカフェフロアで販売されているお弁当の販売数を予測するモデルを作成していただきます。\n",
        "\n",
        "\n",
        "*   売れ残りのお弁当から漂う哀愁は、環境にも、そしてお弁当屋さんの懐にも優しくありません。\n",
        "*   売り切れは、お弁当屋さんにとっては機会損失、カフェフロアまで来た社員にとっては時間損失となります。\n",
        "\n",
        "\n",
        "今回は、曜日やメニュー等の複数の変数から最適なお弁当の量を推測していただき、お弁当屋さんと、その利用者、そして環境に貢献していただきます。\n"
      ]
    },
    {
      "cell_type": "markdown",
      "metadata": {
        "id": "7RjY8-wUmHzY"
      },
      "source": [
        "## 1. 準備（データ）をダウンロード\n",
        "\n",
        "倉光研のGithubからどうぞ\n",
        "\n",
        "\n",
        "\n",
        "*   bento_train.csv - 訓練データ\n",
        "*   bento_test.csv - 検証データ\n",
        "\n",
        "\n",
        "\n"
      ]
    },
    {
      "cell_type": "code",
      "metadata": {
        "id": "I01lz8ABlS3t",
        "colab": {
          "base_uri": "https://localhost:8080/",
          "height": 391
        },
        "outputId": "e7ff4f9e-5fc8-4786-c1b2-5b9ced435873"
      },
      "source": [
        "# まず、訓練データとテストデータをダウンロードします\n",
        "! wget http://kuramitsulab.github.io/data/bento_train.csv\n",
        "! wget http://kuramitsulab.github.io/data/bento_test.csv"
      ],
      "execution_count": null,
      "outputs": [
        {
          "output_type": "stream",
          "text": [
            "--2020-08-03 05:34:11--  http://kuramitsulab.github.io/data/bento_train.csv\n",
            "Resolving kuramitsulab.github.io (kuramitsulab.github.io)... 185.199.110.153, 185.199.109.153, 185.199.108.153, ...\n",
            "Connecting to kuramitsulab.github.io (kuramitsulab.github.io)|185.199.110.153|:80... connected.\n",
            "HTTP request sent, awaiting response... 200 OK\n",
            "Length: 14821 (14K) [text/csv]\n",
            "Saving to: ‘bento_train.csv.1’\n",
            "\n",
            "\rbento_train.csv.1     0%[                    ]       0  --.-KB/s               \rbento_train.csv.1   100%[===================>]  14.47K  --.-KB/s    in 0.01s   \n",
            "\n",
            "2020-08-03 05:34:11 (1.15 MB/s) - ‘bento_train.csv.1’ saved [14821/14821]\n",
            "\n",
            "--2020-08-03 05:34:13--  http://kuramitsulab.github.io/data/bento_test.csv\n",
            "Resolving kuramitsulab.github.io (kuramitsulab.github.io)... 185.199.111.153, 185.199.110.153, 185.199.108.153, ...\n",
            "Connecting to kuramitsulab.github.io (kuramitsulab.github.io)|185.199.111.153|:80... connected.\n",
            "HTTP request sent, awaiting response... 200 OK\n",
            "Length: 2900 (2.8K) [text/csv]\n",
            "Saving to: ‘bento_test.csv.1’\n",
            "\n",
            "bento_test.csv.1    100%[===================>]   2.83K  --.-KB/s    in 0s      \n",
            "\n",
            "2020-08-03 05:34:13 (204 MB/s) - ‘bento_test.csv.1’ saved [2900/2900]\n",
            "\n"
          ],
          "name": "stdout"
        }
      ]
    },
    {
      "cell_type": "markdown",
      "metadata": {
        "id": "ZXKar9UGmTP0"
      },
      "source": [
        "## データの確認\n",
        "\n",
        "データの内容を確認します。\n"
      ]
    },
    {
      "cell_type": "code",
      "metadata": {
        "id": "7hBkNRa9ihRT"
      },
      "source": [
        "import pandas as pd\n"
      ],
      "execution_count": null,
      "outputs": []
    },
    {
      "cell_type": "code",
      "metadata": {
        "id": "5P2z0hVhje3A",
        "colab": {
          "base_uri": "https://localhost:8080/",
          "height": 204
        },
        "outputId": "377967fa-8817-4351-d27d-e93ef1380d96"
      },
      "source": [
        "bento = pd.read_csv('bento_train.csv')\n",
        "bento.head()"
      ],
      "execution_count": null,
      "outputs": [
        {
          "output_type": "execute_result",
          "data": {
            "text/html": [
              "<div>\n",
              "<style scoped>\n",
              "    .dataframe tbody tr th:only-of-type {\n",
              "        vertical-align: middle;\n",
              "    }\n",
              "\n",
              "    .dataframe tbody tr th {\n",
              "        vertical-align: top;\n",
              "    }\n",
              "\n",
              "    .dataframe thead th {\n",
              "        text-align: right;\n",
              "    }\n",
              "</style>\n",
              "<table border=\"1\" class=\"dataframe\">\n",
              "  <thead>\n",
              "    <tr style=\"text-align: right;\">\n",
              "      <th></th>\n",
              "      <th>datetime</th>\n",
              "      <th>y</th>\n",
              "      <th>week</th>\n",
              "      <th>soldout</th>\n",
              "      <th>name</th>\n",
              "      <th>kcal</th>\n",
              "      <th>remarks</th>\n",
              "      <th>event</th>\n",
              "      <th>payday</th>\n",
              "      <th>weather</th>\n",
              "      <th>precipitation</th>\n",
              "      <th>temperature</th>\n",
              "    </tr>\n",
              "  </thead>\n",
              "  <tbody>\n",
              "    <tr>\n",
              "      <th>0</th>\n",
              "      <td>2013-11-18</td>\n",
              "      <td>90</td>\n",
              "      <td>月</td>\n",
              "      <td>0</td>\n",
              "      <td>厚切りイカフライ</td>\n",
              "      <td>NaN</td>\n",
              "      <td>NaN</td>\n",
              "      <td>NaN</td>\n",
              "      <td>NaN</td>\n",
              "      <td>快晴</td>\n",
              "      <td>--</td>\n",
              "      <td>19.8</td>\n",
              "    </tr>\n",
              "    <tr>\n",
              "      <th>1</th>\n",
              "      <td>2013-11-19</td>\n",
              "      <td>101</td>\n",
              "      <td>火</td>\n",
              "      <td>1</td>\n",
              "      <td>手作りヒレカツ</td>\n",
              "      <td>NaN</td>\n",
              "      <td>NaN</td>\n",
              "      <td>NaN</td>\n",
              "      <td>NaN</td>\n",
              "      <td>快晴</td>\n",
              "      <td>--</td>\n",
              "      <td>17.0</td>\n",
              "    </tr>\n",
              "    <tr>\n",
              "      <th>2</th>\n",
              "      <td>2013-11-20</td>\n",
              "      <td>118</td>\n",
              "      <td>水</td>\n",
              "      <td>0</td>\n",
              "      <td>白身魚唐揚げ野菜あん</td>\n",
              "      <td>NaN</td>\n",
              "      <td>NaN</td>\n",
              "      <td>NaN</td>\n",
              "      <td>NaN</td>\n",
              "      <td>快晴</td>\n",
              "      <td>--</td>\n",
              "      <td>15.5</td>\n",
              "    </tr>\n",
              "    <tr>\n",
              "      <th>3</th>\n",
              "      <td>2013-11-21</td>\n",
              "      <td>120</td>\n",
              "      <td>木</td>\n",
              "      <td>1</td>\n",
              "      <td>若鶏ピリ辛焼</td>\n",
              "      <td>NaN</td>\n",
              "      <td>NaN</td>\n",
              "      <td>NaN</td>\n",
              "      <td>NaN</td>\n",
              "      <td>快晴</td>\n",
              "      <td>--</td>\n",
              "      <td>15.2</td>\n",
              "    </tr>\n",
              "    <tr>\n",
              "      <th>4</th>\n",
              "      <td>2013-11-22</td>\n",
              "      <td>130</td>\n",
              "      <td>金</td>\n",
              "      <td>1</td>\n",
              "      <td>ビッグメンチカツ</td>\n",
              "      <td>NaN</td>\n",
              "      <td>NaN</td>\n",
              "      <td>NaN</td>\n",
              "      <td>NaN</td>\n",
              "      <td>快晴</td>\n",
              "      <td>--</td>\n",
              "      <td>16.1</td>\n",
              "    </tr>\n",
              "  </tbody>\n",
              "</table>\n",
              "</div>"
            ],
            "text/plain": [
              "     datetime    y week  soldout  ... payday  weather precipitation temperature\n",
              "0  2013-11-18   90    月        0  ...    NaN       快晴            --        19.8\n",
              "1  2013-11-19  101    火        1  ...    NaN       快晴            --        17.0\n",
              "2  2013-11-20  118    水        0  ...    NaN       快晴            --        15.5\n",
              "3  2013-11-21  120    木        1  ...    NaN       快晴            --        15.2\n",
              "4  2013-11-22  130    金        1  ...    NaN       快晴            --        16.1\n",
              "\n",
              "[5 rows x 12 columns]"
            ]
          },
          "metadata": {
            "tags": []
          },
          "execution_count": 46
        }
      ]
    },
    {
      "cell_type": "markdown",
      "metadata": {
        "id": "PGGiSQmwnQ_t"
      },
      "source": [
        "## データの説明\n",
        "\n",
        "y が目的変数です。\n",
        "\n",
        "それ以外は、自由に選択して説明変数にして、モデルを構築してみてください。\n",
        "\n",
        "\n",
        "```csv\n",
        "ヘッダ名称\tデータ型\t説明\n",
        "datetid\tdatetime\tインデックスとして使用する日付（yyyy-m-d）\n",
        "y\tint\t販売数（目的変数）\n",
        "week\tchar\t曜日（月～金）\n",
        "soldout\tboolean\t完売フラグ（0:完売せず、1:完売）\n",
        "name\tvarchar\tメインメニュー\n",
        "kcal\tint\tおかずのカロリー（kcal）欠損有り\n",
        "remarks\tvarchar\t特記事項\n",
        "event\tvarchar\t13時開始お弁当持ち込み可の社内イベント\n",
        "payday\tboolean\t給料日フラグ（1:給料日）\n",
        "weather\tvarchar\t天気\n",
        "precipitation\tfloat\t降水量。ない場合は \"--\"\n",
        "temperature\tfloat\t気温\n",
        "```\n"
      ]
    },
    {
      "cell_type": "markdown",
      "metadata": {
        "id": "xbYRQGt9ndrL"
      },
      "source": [
        "# レポート解答\n",
        "\n",
        "ここから、訓練データを用いて、各自、モデルの構築をおこなって、\n",
        "検証用のデータで正確さ(score)を求めてみましょう。\n",
        "できるだけ高い正確さの高いモデルを作るように頑張りましょう。\n",
        "\n",
        "ヒント：\n",
        "\n",
        "1.   売り上げ数と説明変数との関係を簡単な基礎分析で見ていきます。\n",
        "2.   欠損値補間します\n",
        "3.   お弁当の売り上げ分布の確認します\n",
        "4.   目的変数と説明変数（数値変数）との散布図の確認します\n",
        "\n",
        "ヒント２：\n",
        "\n",
        "1.   単回帰でモデルの検討をしてみる\n",
        "2.   Random Forestを用いて単回帰モデルの結果を修正するモデルも作成\n",
        "3.   他の手法も検討してみよう\n",
        "\n",
        "提出は、Colab 共有でどうぞ！！　\n"
      ]
    },
    {
      "cell_type": "code",
      "metadata": {
        "id": "QBKFvJZMHhoU"
      },
      "source": [
        "import pandas as pd\n",
        "import numpy as np\n",
        "from matplotlib import pyplot as plt\n",
        "\n",
        "import seaborn as sns\n"
      ],
      "execution_count": null,
      "outputs": []
    },
    {
      "cell_type": "code",
      "metadata": {
        "id": "X1CCkHMxIL3B"
      },
      "source": [
        "train = pd.read_csv('bento_train.csv')\n",
        "test = pd.read_csv('bento_test.csv')"
      ],
      "execution_count": null,
      "outputs": []
    },
    {
      "cell_type": "code",
      "metadata": {
        "id": "q4QesWvaIxyY",
        "colab": {
          "base_uri": "https://localhost:8080/",
          "height": 204
        },
        "outputId": "9fb76ca8-0b6c-4923-ef3f-98eaffe55331"
      },
      "source": [
        "train.head()"
      ],
      "execution_count": null,
      "outputs": [
        {
          "output_type": "execute_result",
          "data": {
            "text/html": [
              "<div>\n",
              "<style scoped>\n",
              "    .dataframe tbody tr th:only-of-type {\n",
              "        vertical-align: middle;\n",
              "    }\n",
              "\n",
              "    .dataframe tbody tr th {\n",
              "        vertical-align: top;\n",
              "    }\n",
              "\n",
              "    .dataframe thead th {\n",
              "        text-align: right;\n",
              "    }\n",
              "</style>\n",
              "<table border=\"1\" class=\"dataframe\">\n",
              "  <thead>\n",
              "    <tr style=\"text-align: right;\">\n",
              "      <th></th>\n",
              "      <th>datetime</th>\n",
              "      <th>y</th>\n",
              "      <th>week</th>\n",
              "      <th>soldout</th>\n",
              "      <th>name</th>\n",
              "      <th>kcal</th>\n",
              "      <th>remarks</th>\n",
              "      <th>event</th>\n",
              "      <th>payday</th>\n",
              "      <th>weather</th>\n",
              "      <th>precipitation</th>\n",
              "      <th>temperature</th>\n",
              "    </tr>\n",
              "  </thead>\n",
              "  <tbody>\n",
              "    <tr>\n",
              "      <th>0</th>\n",
              "      <td>2013-11-18</td>\n",
              "      <td>90</td>\n",
              "      <td>月</td>\n",
              "      <td>0</td>\n",
              "      <td>厚切りイカフライ</td>\n",
              "      <td>NaN</td>\n",
              "      <td>NaN</td>\n",
              "      <td>NaN</td>\n",
              "      <td>NaN</td>\n",
              "      <td>快晴</td>\n",
              "      <td>--</td>\n",
              "      <td>19.8</td>\n",
              "    </tr>\n",
              "    <tr>\n",
              "      <th>1</th>\n",
              "      <td>2013-11-19</td>\n",
              "      <td>101</td>\n",
              "      <td>火</td>\n",
              "      <td>1</td>\n",
              "      <td>手作りヒレカツ</td>\n",
              "      <td>NaN</td>\n",
              "      <td>NaN</td>\n",
              "      <td>NaN</td>\n",
              "      <td>NaN</td>\n",
              "      <td>快晴</td>\n",
              "      <td>--</td>\n",
              "      <td>17.0</td>\n",
              "    </tr>\n",
              "    <tr>\n",
              "      <th>2</th>\n",
              "      <td>2013-11-20</td>\n",
              "      <td>118</td>\n",
              "      <td>水</td>\n",
              "      <td>0</td>\n",
              "      <td>白身魚唐揚げ野菜あん</td>\n",
              "      <td>NaN</td>\n",
              "      <td>NaN</td>\n",
              "      <td>NaN</td>\n",
              "      <td>NaN</td>\n",
              "      <td>快晴</td>\n",
              "      <td>--</td>\n",
              "      <td>15.5</td>\n",
              "    </tr>\n",
              "    <tr>\n",
              "      <th>3</th>\n",
              "      <td>2013-11-21</td>\n",
              "      <td>120</td>\n",
              "      <td>木</td>\n",
              "      <td>1</td>\n",
              "      <td>若鶏ピリ辛焼</td>\n",
              "      <td>NaN</td>\n",
              "      <td>NaN</td>\n",
              "      <td>NaN</td>\n",
              "      <td>NaN</td>\n",
              "      <td>快晴</td>\n",
              "      <td>--</td>\n",
              "      <td>15.2</td>\n",
              "    </tr>\n",
              "    <tr>\n",
              "      <th>4</th>\n",
              "      <td>2013-11-22</td>\n",
              "      <td>130</td>\n",
              "      <td>金</td>\n",
              "      <td>1</td>\n",
              "      <td>ビッグメンチカツ</td>\n",
              "      <td>NaN</td>\n",
              "      <td>NaN</td>\n",
              "      <td>NaN</td>\n",
              "      <td>NaN</td>\n",
              "      <td>快晴</td>\n",
              "      <td>--</td>\n",
              "      <td>16.1</td>\n",
              "    </tr>\n",
              "  </tbody>\n",
              "</table>\n",
              "</div>"
            ],
            "text/plain": [
              "     datetime    y week  soldout  ... payday  weather precipitation temperature\n",
              "0  2013-11-18   90    月        0  ...    NaN       快晴            --        19.8\n",
              "1  2013-11-19  101    火        1  ...    NaN       快晴            --        17.0\n",
              "2  2013-11-20  118    水        0  ...    NaN       快晴            --        15.5\n",
              "3  2013-11-21  120    木        1  ...    NaN       快晴            --        15.2\n",
              "4  2013-11-22  130    金        1  ...    NaN       快晴            --        16.1\n",
              "\n",
              "[5 rows x 12 columns]"
            ]
          },
          "metadata": {
            "tags": []
          },
          "execution_count": 49
        }
      ]
    },
    {
      "cell_type": "code",
      "metadata": {
        "id": "IP4bJyp5I0gs",
        "colab": {
          "base_uri": "https://localhost:8080/",
          "height": 204
        },
        "outputId": "4b9ded52-b3cd-47ff-ef89-74392e23ed56"
      },
      "source": [
        "test.head()"
      ],
      "execution_count": null,
      "outputs": [
        {
          "output_type": "execute_result",
          "data": {
            "text/html": [
              "<div>\n",
              "<style scoped>\n",
              "    .dataframe tbody tr th:only-of-type {\n",
              "        vertical-align: middle;\n",
              "    }\n",
              "\n",
              "    .dataframe tbody tr th {\n",
              "        vertical-align: top;\n",
              "    }\n",
              "\n",
              "    .dataframe thead th {\n",
              "        text-align: right;\n",
              "    }\n",
              "</style>\n",
              "<table border=\"1\" class=\"dataframe\">\n",
              "  <thead>\n",
              "    <tr style=\"text-align: right;\">\n",
              "      <th></th>\n",
              "      <th>datetime</th>\n",
              "      <th>week</th>\n",
              "      <th>soldout</th>\n",
              "      <th>name</th>\n",
              "      <th>kcal</th>\n",
              "      <th>remarks</th>\n",
              "      <th>event</th>\n",
              "      <th>payday</th>\n",
              "      <th>weather</th>\n",
              "      <th>precipitation</th>\n",
              "      <th>temperature</th>\n",
              "    </tr>\n",
              "  </thead>\n",
              "  <tbody>\n",
              "    <tr>\n",
              "      <th>0</th>\n",
              "      <td>2014-10-1</td>\n",
              "      <td>水</td>\n",
              "      <td>1</td>\n",
              "      <td>メンチカツ</td>\n",
              "      <td>420.0</td>\n",
              "      <td>NaN</td>\n",
              "      <td>NaN</td>\n",
              "      <td>NaN</td>\n",
              "      <td>雨</td>\n",
              "      <td>0</td>\n",
              "      <td>20.2</td>\n",
              "    </tr>\n",
              "    <tr>\n",
              "      <th>1</th>\n",
              "      <td>2014-10-2</td>\n",
              "      <td>木</td>\n",
              "      <td>0</td>\n",
              "      <td>バーベキューチキン</td>\n",
              "      <td>415.0</td>\n",
              "      <td>NaN</td>\n",
              "      <td>NaN</td>\n",
              "      <td>NaN</td>\n",
              "      <td>曇</td>\n",
              "      <td>--</td>\n",
              "      <td>23.9</td>\n",
              "    </tr>\n",
              "    <tr>\n",
              "      <th>2</th>\n",
              "      <td>2014-10-3</td>\n",
              "      <td>金</td>\n",
              "      <td>0</td>\n",
              "      <td>豚肉のマスタード焼き</td>\n",
              "      <td>405.0</td>\n",
              "      <td>NaN</td>\n",
              "      <td>NaN</td>\n",
              "      <td>NaN</td>\n",
              "      <td>晴れ</td>\n",
              "      <td>--</td>\n",
              "      <td>28.7</td>\n",
              "    </tr>\n",
              "    <tr>\n",
              "      <th>3</th>\n",
              "      <td>2014-10-6</td>\n",
              "      <td>月</td>\n",
              "      <td>1</td>\n",
              "      <td>麻婆春雨</td>\n",
              "      <td>400.0</td>\n",
              "      <td>NaN</td>\n",
              "      <td>NaN</td>\n",
              "      <td>NaN</td>\n",
              "      <td>雨</td>\n",
              "      <td>0.5</td>\n",
              "      <td>21.5</td>\n",
              "    </tr>\n",
              "    <tr>\n",
              "      <th>4</th>\n",
              "      <td>2014-10-7</td>\n",
              "      <td>火</td>\n",
              "      <td>0</td>\n",
              "      <td>厚揚げ肉みそ炒め</td>\n",
              "      <td>430.0</td>\n",
              "      <td>NaN</td>\n",
              "      <td>NaN</td>\n",
              "      <td>NaN</td>\n",
              "      <td>晴れ</td>\n",
              "      <td>--</td>\n",
              "      <td>22.1</td>\n",
              "    </tr>\n",
              "  </tbody>\n",
              "</table>\n",
              "</div>"
            ],
            "text/plain": [
              "    datetime week  soldout  ... weather  precipitation temperature\n",
              "0  2014-10-1    水        1  ...       雨              0        20.2\n",
              "1  2014-10-2    木        0  ...       曇             --        23.9\n",
              "2  2014-10-3    金        0  ...      晴れ             --        28.7\n",
              "3  2014-10-6    月        1  ...       雨            0.5        21.5\n",
              "4  2014-10-7    火        0  ...      晴れ             --        22.1\n",
              "\n",
              "[5 rows x 11 columns]"
            ]
          },
          "metadata": {
            "tags": []
          },
          "execution_count": 50
        }
      ]
    },
    {
      "cell_type": "markdown",
      "metadata": {
        "id": "ObcPE7TZVPv6"
      },
      "source": [
        "## 欠損値の確認"
      ]
    },
    {
      "cell_type": "code",
      "metadata": {
        "id": "MwCl1HCrN3Hi",
        "colab": {
          "base_uri": "https://localhost:8080/",
          "height": 442
        },
        "outputId": "8cb46ec7-f6cf-4775-ffad-4b0e499c13f0"
      },
      "source": [
        "print(train.isnull().sum())\n",
        "print(test.isnull().sum())"
      ],
      "execution_count": null,
      "outputs": [
        {
          "output_type": "stream",
          "text": [
            "datetime           0\n",
            "y                  0\n",
            "week               0\n",
            "soldout            0\n",
            "name               0\n",
            "kcal              41\n",
            "remarks          186\n",
            "event            193\n",
            "payday           197\n",
            "weather            0\n",
            "precipitation      0\n",
            "temperature        0\n",
            "dtype: int64\n",
            "datetime          0\n",
            "week              0\n",
            "soldout           0\n",
            "name              0\n",
            "kcal              4\n",
            "remarks          33\n",
            "event            37\n",
            "payday           38\n",
            "weather           0\n",
            "precipitation     0\n",
            "temperature       0\n",
            "dtype: int64\n"
          ],
          "name": "stdout"
        }
      ]
    },
    {
      "cell_type": "markdown",
      "metadata": {
        "id": "l_Se5GVrVVXs"
      },
      "source": [
        "## 不要データの削除"
      ]
    },
    {
      "cell_type": "code",
      "metadata": {
        "id": "HEaUCfwWP1II"
      },
      "source": [
        "train = train.drop(['remarks', 'event', 'payday', 'precipitation'], axis = 1)"
      ],
      "execution_count": null,
      "outputs": []
    },
    {
      "cell_type": "code",
      "metadata": {
        "id": "GOPEXAgoQUj3"
      },
      "source": [
        "test = test.drop(['remarks', 'event', 'payday', 'precipitation'], axis = 1)"
      ],
      "execution_count": null,
      "outputs": []
    },
    {
      "cell_type": "code",
      "metadata": {
        "id": "o2QDFUBoWZph",
        "colab": {
          "base_uri": "https://localhost:8080/",
          "height": 204
        },
        "outputId": "0ccd10be-7bf9-4998-f732-96a93edb00da"
      },
      "source": [
        "train.head()"
      ],
      "execution_count": null,
      "outputs": [
        {
          "output_type": "execute_result",
          "data": {
            "text/html": [
              "<div>\n",
              "<style scoped>\n",
              "    .dataframe tbody tr th:only-of-type {\n",
              "        vertical-align: middle;\n",
              "    }\n",
              "\n",
              "    .dataframe tbody tr th {\n",
              "        vertical-align: top;\n",
              "    }\n",
              "\n",
              "    .dataframe thead th {\n",
              "        text-align: right;\n",
              "    }\n",
              "</style>\n",
              "<table border=\"1\" class=\"dataframe\">\n",
              "  <thead>\n",
              "    <tr style=\"text-align: right;\">\n",
              "      <th></th>\n",
              "      <th>datetime</th>\n",
              "      <th>y</th>\n",
              "      <th>week</th>\n",
              "      <th>soldout</th>\n",
              "      <th>name</th>\n",
              "      <th>kcal</th>\n",
              "      <th>weather</th>\n",
              "      <th>temperature</th>\n",
              "    </tr>\n",
              "  </thead>\n",
              "  <tbody>\n",
              "    <tr>\n",
              "      <th>0</th>\n",
              "      <td>2013-11-18</td>\n",
              "      <td>90</td>\n",
              "      <td>月</td>\n",
              "      <td>0</td>\n",
              "      <td>厚切りイカフライ</td>\n",
              "      <td>NaN</td>\n",
              "      <td>快晴</td>\n",
              "      <td>19.8</td>\n",
              "    </tr>\n",
              "    <tr>\n",
              "      <th>1</th>\n",
              "      <td>2013-11-19</td>\n",
              "      <td>101</td>\n",
              "      <td>火</td>\n",
              "      <td>1</td>\n",
              "      <td>手作りヒレカツ</td>\n",
              "      <td>NaN</td>\n",
              "      <td>快晴</td>\n",
              "      <td>17.0</td>\n",
              "    </tr>\n",
              "    <tr>\n",
              "      <th>2</th>\n",
              "      <td>2013-11-20</td>\n",
              "      <td>118</td>\n",
              "      <td>水</td>\n",
              "      <td>0</td>\n",
              "      <td>白身魚唐揚げ野菜あん</td>\n",
              "      <td>NaN</td>\n",
              "      <td>快晴</td>\n",
              "      <td>15.5</td>\n",
              "    </tr>\n",
              "    <tr>\n",
              "      <th>3</th>\n",
              "      <td>2013-11-21</td>\n",
              "      <td>120</td>\n",
              "      <td>木</td>\n",
              "      <td>1</td>\n",
              "      <td>若鶏ピリ辛焼</td>\n",
              "      <td>NaN</td>\n",
              "      <td>快晴</td>\n",
              "      <td>15.2</td>\n",
              "    </tr>\n",
              "    <tr>\n",
              "      <th>4</th>\n",
              "      <td>2013-11-22</td>\n",
              "      <td>130</td>\n",
              "      <td>金</td>\n",
              "      <td>1</td>\n",
              "      <td>ビッグメンチカツ</td>\n",
              "      <td>NaN</td>\n",
              "      <td>快晴</td>\n",
              "      <td>16.1</td>\n",
              "    </tr>\n",
              "  </tbody>\n",
              "</table>\n",
              "</div>"
            ],
            "text/plain": [
              "     datetime    y week  soldout        name  kcal weather  temperature\n",
              "0  2013-11-18   90    月        0    厚切りイカフライ   NaN      快晴         19.8\n",
              "1  2013-11-19  101    火        1     手作りヒレカツ   NaN      快晴         17.0\n",
              "2  2013-11-20  118    水        0  白身魚唐揚げ野菜あん   NaN      快晴         15.5\n",
              "3  2013-11-21  120    木        1      若鶏ピリ辛焼   NaN      快晴         15.2\n",
              "4  2013-11-22  130    金        1    ビッグメンチカツ   NaN      快晴         16.1"
            ]
          },
          "metadata": {
            "tags": []
          },
          "execution_count": 54
        }
      ]
    },
    {
      "cell_type": "code",
      "metadata": {
        "id": "7CyR6SNNWck7",
        "colab": {
          "base_uri": "https://localhost:8080/",
          "height": 204
        },
        "outputId": "89ce70c9-b46b-4ec0-e5cf-f3e97cd23777"
      },
      "source": [
        "test.head()"
      ],
      "execution_count": null,
      "outputs": [
        {
          "output_type": "execute_result",
          "data": {
            "text/html": [
              "<div>\n",
              "<style scoped>\n",
              "    .dataframe tbody tr th:only-of-type {\n",
              "        vertical-align: middle;\n",
              "    }\n",
              "\n",
              "    .dataframe tbody tr th {\n",
              "        vertical-align: top;\n",
              "    }\n",
              "\n",
              "    .dataframe thead th {\n",
              "        text-align: right;\n",
              "    }\n",
              "</style>\n",
              "<table border=\"1\" class=\"dataframe\">\n",
              "  <thead>\n",
              "    <tr style=\"text-align: right;\">\n",
              "      <th></th>\n",
              "      <th>datetime</th>\n",
              "      <th>week</th>\n",
              "      <th>soldout</th>\n",
              "      <th>name</th>\n",
              "      <th>kcal</th>\n",
              "      <th>weather</th>\n",
              "      <th>temperature</th>\n",
              "    </tr>\n",
              "  </thead>\n",
              "  <tbody>\n",
              "    <tr>\n",
              "      <th>0</th>\n",
              "      <td>2014-10-1</td>\n",
              "      <td>水</td>\n",
              "      <td>1</td>\n",
              "      <td>メンチカツ</td>\n",
              "      <td>420.0</td>\n",
              "      <td>雨</td>\n",
              "      <td>20.2</td>\n",
              "    </tr>\n",
              "    <tr>\n",
              "      <th>1</th>\n",
              "      <td>2014-10-2</td>\n",
              "      <td>木</td>\n",
              "      <td>0</td>\n",
              "      <td>バーベキューチキン</td>\n",
              "      <td>415.0</td>\n",
              "      <td>曇</td>\n",
              "      <td>23.9</td>\n",
              "    </tr>\n",
              "    <tr>\n",
              "      <th>2</th>\n",
              "      <td>2014-10-3</td>\n",
              "      <td>金</td>\n",
              "      <td>0</td>\n",
              "      <td>豚肉のマスタード焼き</td>\n",
              "      <td>405.0</td>\n",
              "      <td>晴れ</td>\n",
              "      <td>28.7</td>\n",
              "    </tr>\n",
              "    <tr>\n",
              "      <th>3</th>\n",
              "      <td>2014-10-6</td>\n",
              "      <td>月</td>\n",
              "      <td>1</td>\n",
              "      <td>麻婆春雨</td>\n",
              "      <td>400.0</td>\n",
              "      <td>雨</td>\n",
              "      <td>21.5</td>\n",
              "    </tr>\n",
              "    <tr>\n",
              "      <th>4</th>\n",
              "      <td>2014-10-7</td>\n",
              "      <td>火</td>\n",
              "      <td>0</td>\n",
              "      <td>厚揚げ肉みそ炒め</td>\n",
              "      <td>430.0</td>\n",
              "      <td>晴れ</td>\n",
              "      <td>22.1</td>\n",
              "    </tr>\n",
              "  </tbody>\n",
              "</table>\n",
              "</div>"
            ],
            "text/plain": [
              "    datetime week  soldout        name   kcal weather  temperature\n",
              "0  2014-10-1    水        1       メンチカツ  420.0       雨         20.2\n",
              "1  2014-10-2    木        0   バーベキューチキン  415.0       曇         23.9\n",
              "2  2014-10-3    金        0  豚肉のマスタード焼き  405.0      晴れ         28.7\n",
              "3  2014-10-6    月        1        麻婆春雨  400.0       雨         21.5\n",
              "4  2014-10-7    火        0    厚揚げ肉みそ炒め  430.0      晴れ         22.1"
            ]
          },
          "metadata": {
            "tags": []
          },
          "execution_count": 55
        }
      ]
    },
    {
      "cell_type": "markdown",
      "metadata": {
        "id": "B4Csn1kFVZJB"
      },
      "source": [
        "## 欠損値の補完(中央値の利用)"
      ]
    },
    {
      "cell_type": "code",
      "metadata": {
        "id": "oKzXLqeCVYuA"
      },
      "source": [
        "train['kcal'] = train['kcal'].fillna(train['kcal'].median())\n",
        "test['kcal'] = test['kcal'].fillna(test['kcal'].median())"
      ],
      "execution_count": null,
      "outputs": []
    },
    {
      "cell_type": "code",
      "metadata": {
        "id": "8HFsHP1-Wp5h",
        "colab": {
          "base_uri": "https://localhost:8080/",
          "height": 204
        },
        "outputId": "7c4a77af-730a-4d75-a0e4-faacc74ce526"
      },
      "source": [
        "train.head()"
      ],
      "execution_count": null,
      "outputs": [
        {
          "output_type": "execute_result",
          "data": {
            "text/html": [
              "<div>\n",
              "<style scoped>\n",
              "    .dataframe tbody tr th:only-of-type {\n",
              "        vertical-align: middle;\n",
              "    }\n",
              "\n",
              "    .dataframe tbody tr th {\n",
              "        vertical-align: top;\n",
              "    }\n",
              "\n",
              "    .dataframe thead th {\n",
              "        text-align: right;\n",
              "    }\n",
              "</style>\n",
              "<table border=\"1\" class=\"dataframe\">\n",
              "  <thead>\n",
              "    <tr style=\"text-align: right;\">\n",
              "      <th></th>\n",
              "      <th>datetime</th>\n",
              "      <th>y</th>\n",
              "      <th>week</th>\n",
              "      <th>soldout</th>\n",
              "      <th>name</th>\n",
              "      <th>kcal</th>\n",
              "      <th>weather</th>\n",
              "      <th>temperature</th>\n",
              "    </tr>\n",
              "  </thead>\n",
              "  <tbody>\n",
              "    <tr>\n",
              "      <th>0</th>\n",
              "      <td>2013-11-18</td>\n",
              "      <td>90</td>\n",
              "      <td>月</td>\n",
              "      <td>0</td>\n",
              "      <td>厚切りイカフライ</td>\n",
              "      <td>408.5</td>\n",
              "      <td>快晴</td>\n",
              "      <td>19.8</td>\n",
              "    </tr>\n",
              "    <tr>\n",
              "      <th>1</th>\n",
              "      <td>2013-11-19</td>\n",
              "      <td>101</td>\n",
              "      <td>火</td>\n",
              "      <td>1</td>\n",
              "      <td>手作りヒレカツ</td>\n",
              "      <td>408.5</td>\n",
              "      <td>快晴</td>\n",
              "      <td>17.0</td>\n",
              "    </tr>\n",
              "    <tr>\n",
              "      <th>2</th>\n",
              "      <td>2013-11-20</td>\n",
              "      <td>118</td>\n",
              "      <td>水</td>\n",
              "      <td>0</td>\n",
              "      <td>白身魚唐揚げ野菜あん</td>\n",
              "      <td>408.5</td>\n",
              "      <td>快晴</td>\n",
              "      <td>15.5</td>\n",
              "    </tr>\n",
              "    <tr>\n",
              "      <th>3</th>\n",
              "      <td>2013-11-21</td>\n",
              "      <td>120</td>\n",
              "      <td>木</td>\n",
              "      <td>1</td>\n",
              "      <td>若鶏ピリ辛焼</td>\n",
              "      <td>408.5</td>\n",
              "      <td>快晴</td>\n",
              "      <td>15.2</td>\n",
              "    </tr>\n",
              "    <tr>\n",
              "      <th>4</th>\n",
              "      <td>2013-11-22</td>\n",
              "      <td>130</td>\n",
              "      <td>金</td>\n",
              "      <td>1</td>\n",
              "      <td>ビッグメンチカツ</td>\n",
              "      <td>408.5</td>\n",
              "      <td>快晴</td>\n",
              "      <td>16.1</td>\n",
              "    </tr>\n",
              "  </tbody>\n",
              "</table>\n",
              "</div>"
            ],
            "text/plain": [
              "     datetime    y week  soldout        name   kcal weather  temperature\n",
              "0  2013-11-18   90    月        0    厚切りイカフライ  408.5      快晴         19.8\n",
              "1  2013-11-19  101    火        1     手作りヒレカツ  408.5      快晴         17.0\n",
              "2  2013-11-20  118    水        0  白身魚唐揚げ野菜あん  408.5      快晴         15.5\n",
              "3  2013-11-21  120    木        1      若鶏ピリ辛焼  408.5      快晴         15.2\n",
              "4  2013-11-22  130    金        1    ビッグメンチカツ  408.5      快晴         16.1"
            ]
          },
          "metadata": {
            "tags": []
          },
          "execution_count": 57
        }
      ]
    },
    {
      "cell_type": "code",
      "metadata": {
        "id": "rPfLfu66WsoD",
        "colab": {
          "base_uri": "https://localhost:8080/",
          "height": 204
        },
        "outputId": "5248beca-bff8-4a03-9982-5682b1105e6d"
      },
      "source": [
        "test.head()"
      ],
      "execution_count": null,
      "outputs": [
        {
          "output_type": "execute_result",
          "data": {
            "text/html": [
              "<div>\n",
              "<style scoped>\n",
              "    .dataframe tbody tr th:only-of-type {\n",
              "        vertical-align: middle;\n",
              "    }\n",
              "\n",
              "    .dataframe tbody tr th {\n",
              "        vertical-align: top;\n",
              "    }\n",
              "\n",
              "    .dataframe thead th {\n",
              "        text-align: right;\n",
              "    }\n",
              "</style>\n",
              "<table border=\"1\" class=\"dataframe\">\n",
              "  <thead>\n",
              "    <tr style=\"text-align: right;\">\n",
              "      <th></th>\n",
              "      <th>datetime</th>\n",
              "      <th>week</th>\n",
              "      <th>soldout</th>\n",
              "      <th>name</th>\n",
              "      <th>kcal</th>\n",
              "      <th>weather</th>\n",
              "      <th>temperature</th>\n",
              "    </tr>\n",
              "  </thead>\n",
              "  <tbody>\n",
              "    <tr>\n",
              "      <th>0</th>\n",
              "      <td>2014-10-1</td>\n",
              "      <td>水</td>\n",
              "      <td>1</td>\n",
              "      <td>メンチカツ</td>\n",
              "      <td>420.0</td>\n",
              "      <td>雨</td>\n",
              "      <td>20.2</td>\n",
              "    </tr>\n",
              "    <tr>\n",
              "      <th>1</th>\n",
              "      <td>2014-10-2</td>\n",
              "      <td>木</td>\n",
              "      <td>0</td>\n",
              "      <td>バーベキューチキン</td>\n",
              "      <td>415.0</td>\n",
              "      <td>曇</td>\n",
              "      <td>23.9</td>\n",
              "    </tr>\n",
              "    <tr>\n",
              "      <th>2</th>\n",
              "      <td>2014-10-3</td>\n",
              "      <td>金</td>\n",
              "      <td>0</td>\n",
              "      <td>豚肉のマスタード焼き</td>\n",
              "      <td>405.0</td>\n",
              "      <td>晴れ</td>\n",
              "      <td>28.7</td>\n",
              "    </tr>\n",
              "    <tr>\n",
              "      <th>3</th>\n",
              "      <td>2014-10-6</td>\n",
              "      <td>月</td>\n",
              "      <td>1</td>\n",
              "      <td>麻婆春雨</td>\n",
              "      <td>400.0</td>\n",
              "      <td>雨</td>\n",
              "      <td>21.5</td>\n",
              "    </tr>\n",
              "    <tr>\n",
              "      <th>4</th>\n",
              "      <td>2014-10-7</td>\n",
              "      <td>火</td>\n",
              "      <td>0</td>\n",
              "      <td>厚揚げ肉みそ炒め</td>\n",
              "      <td>430.0</td>\n",
              "      <td>晴れ</td>\n",
              "      <td>22.1</td>\n",
              "    </tr>\n",
              "  </tbody>\n",
              "</table>\n",
              "</div>"
            ],
            "text/plain": [
              "    datetime week  soldout        name   kcal weather  temperature\n",
              "0  2014-10-1    水        1       メンチカツ  420.0       雨         20.2\n",
              "1  2014-10-2    木        0   バーベキューチキン  415.0       曇         23.9\n",
              "2  2014-10-3    金        0  豚肉のマスタード焼き  405.0      晴れ         28.7\n",
              "3  2014-10-6    月        1        麻婆春雨  400.0       雨         21.5\n",
              "4  2014-10-7    火        0    厚揚げ肉みそ炒め  430.0      晴れ         22.1"
            ]
          },
          "metadata": {
            "tags": []
          },
          "execution_count": 58
        }
      ]
    },
    {
      "cell_type": "code",
      "metadata": {
        "id": "S-Jk9X2QWw_-",
        "colab": {
          "base_uri": "https://localhost:8080/",
          "height": 306
        },
        "outputId": "3ecbff6f-9c6f-4af0-a929-a6e6e692e73e"
      },
      "source": [
        "#補完されているかの確認\n",
        "print(train.isnull().sum())\n",
        "print(test.isnull().sum())"
      ],
      "execution_count": null,
      "outputs": [
        {
          "output_type": "stream",
          "text": [
            "datetime       0\n",
            "y              0\n",
            "week           0\n",
            "soldout        0\n",
            "name           0\n",
            "kcal           0\n",
            "weather        0\n",
            "temperature    0\n",
            "dtype: int64\n",
            "datetime       0\n",
            "week           0\n",
            "soldout        0\n",
            "name           0\n",
            "kcal           0\n",
            "weather        0\n",
            "temperature    0\n",
            "dtype: int64\n"
          ],
          "name": "stdout"
        }
      ]
    },
    {
      "cell_type": "markdown",
      "metadata": {
        "id": "v0OcvX8tAUMB"
      },
      "source": [
        "##目的変数を選ぶ"
      ]
    },
    {
      "cell_type": "code",
      "metadata": {
        "id": "jG43mfDf9Do1",
        "colab": {
          "base_uri": "https://localhost:8080/",
          "height": 102
        },
        "outputId": "c13e8f87-236a-4b26-8a15-26a24c028967"
      },
      "source": [
        "#温度を説明変数とする\n",
        "X_train = train['temperature']\n",
        "#売上個数を目的変数とする\n",
        "y_train = train['y']\n",
        "#予測用データ\n",
        "X_test = test['temperature']\n",
        "\n",
        "X_train = X_train.values.reshape(-1, 1)\n",
        "X_test = X_test.values.reshape(-1, 1)\n",
        "X_train[:5]"
      ],
      "execution_count": null,
      "outputs": [
        {
          "output_type": "execute_result",
          "data": {
            "text/plain": [
              "array([[19.8],\n",
              "       [17. ],\n",
              "       [15.5],\n",
              "       [15.2],\n",
              "       [16.1]])"
            ]
          },
          "metadata": {
            "tags": []
          },
          "execution_count": 60
        }
      ]
    },
    {
      "cell_type": "markdown",
      "metadata": {
        "id": "9ocVqSADAZZ4"
      },
      "source": [
        "##モデルの準備"
      ]
    },
    {
      "cell_type": "code",
      "metadata": {
        "id": "OIOepHiF_Ffc"
      },
      "source": [
        "from sklearn.linear_model import LinearRegression as LR"
      ],
      "execution_count": null,
      "outputs": []
    },
    {
      "cell_type": "code",
      "metadata": {
        "id": "GmGFCxjoAeHo",
        "colab": {
          "base_uri": "https://localhost:8080/",
          "height": 34
        },
        "outputId": "4d080f81-5479-4e7f-fcf3-fe52d0ae398b"
      },
      "source": [
        "#モデルの定義と作成\n",
        "model = LR()\n",
        "model.fit(X_train, y_train)"
      ],
      "execution_count": null,
      "outputs": [
        {
          "output_type": "execute_result",
          "data": {
            "text/plain": [
              "LinearRegression(copy_X=True, fit_intercept=True, n_jobs=None, normalize=False)"
            ]
          },
          "metadata": {
            "tags": []
          },
          "execution_count": 62
        }
      ]
    },
    {
      "cell_type": "markdown",
      "metadata": {
        "id": "7xTu3KoucmGE"
      },
      "source": [
        "## 単回帰でモデルを検討する"
      ]
    },
    {
      "cell_type": "code",
      "metadata": {
        "id": "ypySZ4LcXSlM",
        "colab": {
          "base_uri": "https://localhost:8080/",
          "height": 34
        },
        "outputId": "753a4617-bcb7-4966-d60d-54fdae13f416"
      },
      "source": [
        "model.coef_ #傾き"
      ],
      "execution_count": null,
      "outputs": [
        {
          "output_type": "execute_result",
          "data": {
            "text/plain": [
              "array([-2.5023821])"
            ]
          },
          "metadata": {
            "tags": []
          },
          "execution_count": 63
        }
      ]
    },
    {
      "cell_type": "code",
      "metadata": {
        "id": "7oBNv07FXUYb",
        "colab": {
          "base_uri": "https://localhost:8080/",
          "height": 34
        },
        "outputId": "18cb0b3a-73d9-4679-a4e2-5d2a45aaffdc"
      },
      "source": [
        "model.intercept_ #切片"
      ],
      "execution_count": null,
      "outputs": [
        {
          "output_type": "execute_result",
          "data": {
            "text/plain": [
              "134.79948383749922"
            ]
          },
          "metadata": {
            "tags": []
          },
          "execution_count": 64
        }
      ]
    },
    {
      "cell_type": "code",
      "metadata": {
        "id": "72OqQDucF2WG",
        "colab": {
          "base_uri": "https://localhost:8080/",
          "height": 279
        },
        "outputId": "b11fd363-5ba6-4b83-f8a5-f4698b5ea554"
      },
      "source": [
        "#販売数と温度の関係を調べる\n",
        "plt.plot(train['temperature'], train['y'], 'o')\n",
        "plt.ylabel('y')\n",
        "plt.xlabel('temperature')\n",
        "plt.grid(True)"
      ],
      "execution_count": null,
      "outputs": [
        {
          "output_type": "display_data",
          "data": {
            "image/png": "[encoded data removed]",
            "text/plain": [
              "<Figure size 432x288 with 1 Axes>"
            ]
          },
          "metadata": {
            "tags": [],
            "needs_background": "light"
          }
        }
      ]
    },
    {
      "cell_type": "code",
      "metadata": {
        "id": "Vp8ak7i2Y0W9",
        "colab": {
          "base_uri": "https://localhost:8080/",
          "height": 279
        },
        "outputId": "d2f7dca8-06b3-43dd-df65-24132556ce2e"
      },
      "source": [
        "plt.scatter(X_train, y_train)\n",
        "plt.xlabel('temperature')\n",
        "plt.ylabel('y')\n",
        "\n",
        "plt.plot(X_train, model.predict(X_train))\n",
        "plt.grid(True)"
      ],
      "execution_count": null,
      "outputs": [
        {
          "output_type": "display_data",
          "data": {
            "image/png": "[encoded data removed]",
            "text/plain": [
              "<Figure size 432x288 with 1 Axes>"
            ]
          },
          "metadata": {
            "tags": [],
            "needs_background": "light"
          }
        }
      ]
    },
    {
      "cell_type": "code",
      "metadata": {
        "id": "e4VX1FKCc-9V",
        "colab": {
          "base_uri": "https://localhost:8080/",
          "height": 34
        },
        "outputId": "a82a4059-afa4-4787-b9dc-ed3ac910e1ac"
      },
      "source": [
        "model.score(X_train, y_train) #検証"
      ],
      "execution_count": null,
      "outputs": [
        {
          "output_type": "execute_result",
          "data": {
            "text/plain": [
              "0.4294602815194137"
            ]
          },
          "metadata": {
            "tags": []
          },
          "execution_count": 67
        }
      ]
    },
    {
      "cell_type": "code",
      "metadata": {
        "id": "TKE-ibVVdA1d",
        "colab": {
          "base_uri": "https://localhost:8080/",
          "height": 153
        },
        "outputId": "ba9456e2-4505-489c-921b-1658a0140b80"
      },
      "source": [
        "pred = model.predict(X_test)\n",
        "print(pred)"
      ],
      "execution_count": null,
      "outputs": [
        {
          "output_type": "stream",
          "text": [
            "[ 84.25136537  74.99255159  62.9811175   80.99826864  79.49683938\n",
            "  76.49398085  78.49588653  69.48731097  67.73564349  95.76232304\n",
            "  88.25517673  77.24469548  74.99255159  84.25136537  96.01256125\n",
            "  98.01446693  88.00493852  77.99541011  87.00398568  85.75279463\n",
            "  85.75279463  87.75470031  87.5044621   94.7613702   86.75374747\n",
            "  84.50160358  81.74898327  98.01446693  98.76518156  86.00303284\n",
            "  95.26184662  99.01541977  94.51113199  97.51399051 108.52447176\n",
            "  97.51399051 106.27232787 111.7775685   97.01351409  96.51303767]\n"
          ],
          "name": "stdout"
        }
      ]
    },
    {
      "cell_type": "markdown",
      "metadata": {
        "id": "lm-VE93VfxtC"
      },
      "source": [
        "##ランダムフォレストを用いて単回帰モデルの結果を修正するモデルを作成する"
      ]
    },
    {
      "cell_type": "code",
      "metadata": {
        "id": "yb1n-cOBfw02"
      },
      "source": [
        "from sklearn.datasets import load_breast_cancer\n",
        "from sklearn.ensemble import BaggingClassifier\n",
        "from sklearn.neighbors import KNeighborsClassifier\n",
        "from sklearn.model_selection import train_test_split"
      ],
      "execution_count": null,
      "outputs": []
    },
    {
      "cell_type": "code",
      "metadata": {
        "id": "l9x8-KXtzzuU"
      },
      "source": [
        "dat = pd.concat([train,test],sort=True).reset_index(drop=True)\n",
        "dat.index = pd.to_datetime(dat[\"datetime\"])\n",
        "#dat = dat[\"2014-05-01\":]\n",
        "dat = dat.reset_index(drop=True)\n",
        "\n",
        "#dat[\"days\"] = dat.index\n",
        "days = dat.iloc[:,-1]"
      ],
      "execution_count": null,
      "outputs": []
    },
    {
      "cell_type": "code",
      "metadata": {
        "id": "QjrSizDB1Uod",
        "colab": {
          "base_uri": "https://localhost:8080/",
          "height": 255
        },
        "outputId": "4858480b-2615-449d-d6ce-aed30919e0e6"
      },
      "source": [
        "print(dat)"
      ],
      "execution_count": null,
      "outputs": [
        {
          "output_type": "stream",
          "text": [
            "       datetime   kcal          name  soldout  ...  weather week      y  days\n",
            "0    2013-11-18  408.5      厚切りイカフライ        0  ...       快晴    月   90.0     0\n",
            "1    2013-11-19  408.5       手作りヒレカツ        1  ...       快晴    火  101.0     1\n",
            "2    2013-11-20  408.5    白身魚唐揚げ野菜あん        0  ...       快晴    水  118.0     2\n",
            "3    2013-11-21  408.5        若鶏ピリ辛焼        1  ...       快晴    木  120.0     3\n",
            "4    2013-11-22  408.5      ビッグメンチカツ        1  ...       快晴    金  130.0     4\n",
            "..          ...    ...           ...      ...  ...      ...  ...    ...   ...\n",
            "242  2014-11-21  420.0         ロコモコ丼        0  ...       快晴    金    NaN   242\n",
            "243  2014-11-25  460.0   なすと挽肉のはさみ揚げ        1  ...        雨    火    NaN   243\n",
            "244  2014-11-26  415.0       鶏肉の治部煮風        1  ...        雨    水    NaN   244\n",
            "245  2014-11-27  420.0           牛丼風        0  ...       快晴    木    NaN   245\n",
            "246  2014-11-28  416.0  鶏肉のスイートチリソース        0  ...        曇    金    NaN   246\n",
            "\n",
            "[247 rows x 9 columns]\n"
          ],
          "name": "stdout"
        }
      ]
    },
    {
      "cell_type": "code",
      "metadata": {
        "id": "cfggzdzX4Hgz"
      },
      "source": [
        "train[\"days\"] = days"
      ],
      "execution_count": null,
      "outputs": []
    },
    {
      "cell_type": "code",
      "metadata": {
        "id": "PKse0iaX3YyF"
      },
      "source": [
        "train['days'] = train['days'].fillna(train['days'].median())"
      ],
      "execution_count": null,
      "outputs": []
    },
    {
      "cell_type": "code",
      "metadata": {
        "id": "omSgI6Ju0zxD",
        "colab": {
          "base_uri": "https://localhost:8080/",
          "height": 204
        },
        "outputId": "f1c66ba9-535a-43aa-c6d9-8439e2f45981"
      },
      "source": [
        "train.head()"
      ],
      "execution_count": null,
      "outputs": [
        {
          "output_type": "execute_result",
          "data": {
            "text/html": [
              "<div>\n",
              "<style scoped>\n",
              "    .dataframe tbody tr th:only-of-type {\n",
              "        vertical-align: middle;\n",
              "    }\n",
              "\n",
              "    .dataframe tbody tr th {\n",
              "        vertical-align: top;\n",
              "    }\n",
              "\n",
              "    .dataframe thead th {\n",
              "        text-align: right;\n",
              "    }\n",
              "</style>\n",
              "<table border=\"1\" class=\"dataframe\">\n",
              "  <thead>\n",
              "    <tr style=\"text-align: right;\">\n",
              "      <th></th>\n",
              "      <th>datetime</th>\n",
              "      <th>y</th>\n",
              "      <th>week</th>\n",
              "      <th>soldout</th>\n",
              "      <th>name</th>\n",
              "      <th>kcal</th>\n",
              "      <th>weather</th>\n",
              "      <th>temperature</th>\n",
              "      <th>days</th>\n",
              "    </tr>\n",
              "  </thead>\n",
              "  <tbody>\n",
              "    <tr>\n",
              "      <th>0</th>\n",
              "      <td>2013-11-18</td>\n",
              "      <td>90</td>\n",
              "      <td>月</td>\n",
              "      <td>0</td>\n",
              "      <td>厚切りイカフライ</td>\n",
              "      <td>408.5</td>\n",
              "      <td>快晴</td>\n",
              "      <td>19.8</td>\n",
              "      <td>90.0</td>\n",
              "    </tr>\n",
              "    <tr>\n",
              "      <th>1</th>\n",
              "      <td>2013-11-19</td>\n",
              "      <td>101</td>\n",
              "      <td>火</td>\n",
              "      <td>1</td>\n",
              "      <td>手作りヒレカツ</td>\n",
              "      <td>408.5</td>\n",
              "      <td>快晴</td>\n",
              "      <td>17.0</td>\n",
              "      <td>101.0</td>\n",
              "    </tr>\n",
              "    <tr>\n",
              "      <th>2</th>\n",
              "      <td>2013-11-20</td>\n",
              "      <td>118</td>\n",
              "      <td>水</td>\n",
              "      <td>0</td>\n",
              "      <td>白身魚唐揚げ野菜あん</td>\n",
              "      <td>408.5</td>\n",
              "      <td>快晴</td>\n",
              "      <td>15.5</td>\n",
              "      <td>118.0</td>\n",
              "    </tr>\n",
              "    <tr>\n",
              "      <th>3</th>\n",
              "      <td>2013-11-21</td>\n",
              "      <td>120</td>\n",
              "      <td>木</td>\n",
              "      <td>1</td>\n",
              "      <td>若鶏ピリ辛焼</td>\n",
              "      <td>408.5</td>\n",
              "      <td>快晴</td>\n",
              "      <td>15.2</td>\n",
              "      <td>120.0</td>\n",
              "    </tr>\n",
              "    <tr>\n",
              "      <th>4</th>\n",
              "      <td>2013-11-22</td>\n",
              "      <td>130</td>\n",
              "      <td>金</td>\n",
              "      <td>1</td>\n",
              "      <td>ビッグメンチカツ</td>\n",
              "      <td>408.5</td>\n",
              "      <td>快晴</td>\n",
              "      <td>16.1</td>\n",
              "      <td>130.0</td>\n",
              "    </tr>\n",
              "  </tbody>\n",
              "</table>\n",
              "</div>"
            ],
            "text/plain": [
              "     datetime    y week  soldout        name   kcal weather  temperature   days\n",
              "0  2013-11-18   90    月        0    厚切りイカフライ  408.5      快晴         19.8   90.0\n",
              "1  2013-11-19  101    火        1     手作りヒレカツ  408.5      快晴         17.0  101.0\n",
              "2  2013-11-20  118    水        0  白身魚唐揚げ野菜あん  408.5      快晴         15.5  118.0\n",
              "3  2013-11-21  120    木        1      若鶏ピリ辛焼  408.5      快晴         15.2  120.0\n",
              "4  2013-11-22  130    金        1    ビッグメンチカツ  408.5      快晴         16.1  130.0"
            ]
          },
          "metadata": {
            "tags": []
          },
          "execution_count": 105
        }
      ]
    },
    {
      "cell_type": "code",
      "metadata": {
        "id": "E1R1VcDhf-BW"
      },
      "source": [
        "from sklearn.ensemble import RandomForestRegressor as RF, GradientBoostingRegressor\n",
        "\n",
        "#ランダムフォレストと勾配ブースティングのパラメータ設定\n",
        "models = {\n",
        "    'RandomForest':RF(random_state=0),\n",
        "    'GradientBoost':GradientBoostingRegressor(random_state=0)\n",
        "}\n",
        "\n",
        "y_test = pred\n",
        "#モデル構築\n",
        "scores = {}\n",
        "for model_name, model in models.items():\n",
        "  model.fit(X_train,y_train)\n",
        "  scores[(model_name,'train_score')] = model.score(X_train, y_train)\n",
        "  scores[(model_name,'test_score')] = model.score(X_test, y_test)\n",
        "\n",
        "#結果を表示\n",
        "pd.Series(scores).unstack()"
      ],
      "execution_count": null,
      "outputs": []
    },
    {
      "cell_type": "code",
      "metadata": {
        "id": "YI0MF0-OmwOV"
      },
      "source": [
        "def learning(train,y_train):\n",
        "    model2 = RF(n_estimators=100,max_depth=4,random_state=777)\n",
        "    pred = model.predict(train[\"days\"].values.reshape(-1,1))\n",
        "    #print(pred)\n",
        "    pred_sub = y_train - pred\n",
        "    #print(pred_sub)\n",
        "    model2.fit(train.iloc[:, train.columns.str.match(\"y\")],pred_sub)\n",
        "    return model2"
      ],
      "execution_count": null,
      "outputs": []
    },
    {
      "cell_type": "code",
      "metadata": {
        "id": "5Alf1T4OApib",
        "colab": {
          "base_uri": "https://localhost:8080/",
          "height": 255
        },
        "outputId": "cffa92ac-a7f8-4642-c291-d502b7320e1c"
      },
      "source": [
        "print(train.iloc[:, ~train.columns.str.match(\"y\")])"
      ],
      "execution_count": null,
      "outputs": [
        {
          "output_type": "stream",
          "text": [
            "       datetime week  soldout          name   kcal weather  temperature   days\n",
            "0    2013-11-18    月        0      厚切りイカフライ  408.5      快晴         19.8   90.0\n",
            "1    2013-11-19    火        1       手作りヒレカツ  408.5      快晴         17.0  101.0\n",
            "2    2013-11-20    水        0    白身魚唐揚げ野菜あん  408.5      快晴         15.5  118.0\n",
            "3    2013-11-21    木        1        若鶏ピリ辛焼  408.5      快晴         15.2  120.0\n",
            "4    2013-11-22    金        1      ビッグメンチカツ  408.5      快晴         16.1  130.0\n",
            "..          ...  ...      ...           ...    ...     ...          ...    ...\n",
            "202   2014-9-24    水        1   白身魚のマスタード焼き  408.0       曇         24.8   59.0\n",
            "203   2014-9-25    木        0       牛カルビ焼き肉  394.0       曇         25.4   50.0\n",
            "204   2014-9-26    金        0      ランチビュッフェ  408.5      晴れ         27.1   45.0\n",
            "205   2014-9-29    月        1      豚肉と玉子の炒め  404.0      快晴         26.6   56.0\n",
            "206   2014-9-30    火        0  鶏肉とカシューナッツ炒め  398.0      快晴         28.1   40.0\n",
            "\n",
            "[207 rows x 8 columns]\n"
          ],
          "name": "stdout"
        }
      ]
    },
    {
      "cell_type": "code",
      "metadata": {
        "id": "SCWChGqooz2d",
        "colab": {
          "base_uri": "https://localhost:8080/",
          "height": 34
        },
        "outputId": "733c4d64-855e-4b79-ba2d-132bdeaf04f2"
      },
      "source": [
        "model.score(X_train, y_train) #検証（１に近いほど説明変数を用いて目的変数を表示できていることを表す）"
      ],
      "execution_count": null,
      "outputs": [
        {
          "output_type": "execute_result",
          "data": {
            "text/plain": [
              "0.7980590956007098"
            ]
          },
          "metadata": {
            "tags": []
          },
          "execution_count": 108
        }
      ]
    },
    {
      "cell_type": "code",
      "metadata": {
        "id": "LrS1GlNQrFAy",
        "colab": {
          "base_uri": "https://localhost:8080/",
          "height": 153
        },
        "outputId": "95d2ace6-56ff-4a47-a01e-624c40982f06"
      },
      "source": [
        "pred = model.predict(X_test)\n",
        "print(pred)"
      ],
      "execution_count": null,
      "outputs": [
        {
          "output_type": "stream",
          "text": [
            "[ 73.79494863  73.41239344  58.45000338  62.44839769  62.44839769\n",
            "  61.44273451  62.44839769  61.78848124  64.6967583  112.54996156\n",
            "  70.76537701  62.44839769  73.41239344  73.79494863 112.54996156\n",
            " 128.94709797  70.76537701  62.44839769  73.50190383  74.32352006\n",
            "  74.32352006  77.67566057  77.67566057 122.94554642  72.17352006\n",
            "  73.79494863  71.7710277  128.94709797 107.14829958  72.17352006\n",
            " 122.94554642 107.14829958 119.82904642 115.60807896 117.04150142\n",
            " 115.60807896  79.85962033 135.08410503 109.62057961 109.62057961]\n"
          ],
          "name": "stdout"
        }
      ]
    },
    {
      "cell_type": "code",
      "metadata": {
        "id": "e0dkUlVa7BDJ",
        "colab": {
          "base_uri": "https://localhost:8080/",
          "height": 111
        },
        "outputId": "1137e4f1-a863-4ee3-c243-73bb1299a57a"
      },
      "source": [
        "from sklearn.ensemble import RandomForestRegressor as RF, GradientBoostingRegressor\n",
        "\n",
        "#ランダムフォレストと勾配ブースティングのパラメータ設定\n",
        "models = {\n",
        "    'RandomForest':RF(random_state=0),\n",
        "    'GradientBoost':GradientBoostingRegressor(random_state=0)\n",
        "}\n",
        "\n",
        "y_test = pred\n",
        "#モデル構築\n",
        "scores = {}\n",
        "for model_name, model in models.items():\n",
        "  model.fit(X_train,y_train)\n",
        "  scores[(model_name,'train_score')] = model.score(X_train, y_train)\n",
        "  scores[(model_name,'test_score')] = model.score(X_test, y_test)\n",
        "\n",
        "#結果を表示\n",
        "pd.Series(scores).unstack()"
      ],
      "execution_count": null,
      "outputs": [
        {
          "output_type": "execute_result",
          "data": {
            "text/html": [
              "<div>\n",
              "<style scoped>\n",
              "    .dataframe tbody tr th:only-of-type {\n",
              "        vertical-align: middle;\n",
              "    }\n",
              "\n",
              "    .dataframe tbody tr th {\n",
              "        vertical-align: top;\n",
              "    }\n",
              "\n",
              "    .dataframe thead th {\n",
              "        text-align: right;\n",
              "    }\n",
              "</style>\n",
              "<table border=\"1\" class=\"dataframe\">\n",
              "  <thead>\n",
              "    <tr style=\"text-align: right;\">\n",
              "      <th></th>\n",
              "      <th>test_score</th>\n",
              "      <th>train_score</th>\n",
              "    </tr>\n",
              "  </thead>\n",
              "  <tbody>\n",
              "    <tr>\n",
              "      <th>GradientBoost</th>\n",
              "      <td>1.000000</td>\n",
              "      <td>0.798059</td>\n",
              "    </tr>\n",
              "    <tr>\n",
              "      <th>RandomForest</th>\n",
              "      <td>0.935644</td>\n",
              "      <td>0.833384</td>\n",
              "    </tr>\n",
              "  </tbody>\n",
              "</table>\n",
              "</div>"
            ],
            "text/plain": [
              "               test_score  train_score\n",
              "GradientBoost    1.000000     0.798059\n",
              "RandomForest     0.935644     0.833384"
            ]
          },
          "metadata": {
            "tags": []
          },
          "execution_count": 110
        }
      ]
    },
    {
      "cell_type": "code",
      "metadata": {
        "id": "yqLAz14Q10ak",
        "colab": {
          "base_uri": "https://localhost:8080/",
          "height": 279
        },
        "outputId": "86f5f4e7-bd6e-4121-8efd-b6914f00c69f"
      },
      "source": [
        "#販売数と温度の関係を調べる\n",
        "plt.scatter(train['temperature'], train['y'], color = 'blue', marker = 'o')#linestyle = 'None')\n",
        "plt.scatter(train['temperature'], pred, color = 'orange', marker = 'v')#linestyle = 'None')\n",
        "\n",
        "plt.ylabel('y')\n",
        "plt.xlabel('temperature')\n",
        "\n",
        "plt.grid(True)\n",
        "plt.show()\n",
        "\n",
        "#青：訓練データ\n",
        "#オレンジ：予測データ"
      ],
      "execution_count": null,
      "outputs": [
        {
          "output_type": "display_data",
          "data": {
            "image/png": "[encoded data removed]",
            "text/plain": [
              "<Figure size 432x288 with 1 Axes>"
            ]
          },
          "metadata": {
            "tags": [],
            "needs_background": "light"
          }
        }
      ]
    },
    {
      "cell_type": "code",
      "metadata": {
        "id": "__qgaHwEy_wD",
        "colab": {
          "base_uri": "https://localhost:8080/",
          "height": 282
        },
        "outputId": "fbc1c4af-443f-42d9-e425-b78dec60ebdb"
      },
      "source": [
        "from sklearn.metrics import mean_squared_error as MSE\n",
        "model2 = learning(train,y_train)\n",
        "pred = model.predict(X_train) + model2.predict(train.iloc[:,train.columns.str.match(\"y\")])\n",
        "\n",
        "p = pd.DataFrame({\"actual\":y_train,\"pred\":pred})\n",
        "# p.set_xlabel('days')\n",
        "# p.set_ylabel('y')\n",
        "\n",
        "p.plot(figsize=(15,4))\n",
        "print(\"RMSE\",MSE(y_train,pred)**0.5)\n",
        "\n",
        "#縦軸：売上個数\n",
        "#横軸：日にち\n",
        "#結果：気温による予測はそこそこ役に立つ"
      ],
      "execution_count": null,
      "outputs": [
        {
          "output_type": "stream",
          "text": [
            "RMSE 36.583242330311606\n"
          ],
          "name": "stdout"
        },
        {
          "output_type": "display_data",
          "data": {
            "image/png": "[encoded data removed]",
            "text/plain": [
              "<Figure size 1080x288 with 1 Axes>"
            ]
          },
          "metadata": {
            "tags": [],
            "needs_background": "light"
          }
        }
      ]
    },
    {
      "cell_type": "code",
      "metadata": {
        "id": "qtKU2S-NDJWP"
      },
      "source": [
        "from sklearn.metrics import mean_squared_error as MSE\n",
        "model2 = learning(train,y_train)\n",
        "pred = model.predict(X_test) + model2.predict(test.iloc[:,test.columns.str.match(\"y\")])\n",
        "\n",
        "p = pd.DataFrame({\"pred\":pred})\n",
        "# p.set_xlabel('days')\n",
        "# p.set_ylabel('y')\n",
        "\n",
        "p.plot(figsize=(15,4))\n",
        "#print(\"RMSE\",MSE(y_train,pred)**0.5)\n",
        "\n",
        "#縦軸：売上個数\n",
        "#横軸：日にち"
      ],
      "execution_count": null,
      "outputs": []
    },
    {
      "cell_type": "markdown",
      "metadata": {
        "id": "yWXyEF9wrjTt"
      },
      "source": [
        "## 天気と販売数の関係"
      ]
    },
    {
      "cell_type": "code",
      "metadata": {
        "id": "MkZYxUVJSrba"
      },
      "source": [
        "train.head()"
      ],
      "execution_count": null,
      "outputs": []
    },
    {
      "cell_type": "code",
      "metadata": {
        "id": "3T3X3jCdbu9a"
      },
      "source": [
        "train['new_weather'] = 0\n",
        "train.head()"
      ],
      "execution_count": null,
      "outputs": []
    },
    {
      "cell_type": "code",
      "metadata": {
        "id": "t4Mx0w4Lbwzz"
      },
      "source": [
        "dic = {\"快晴\" : 1, \"晴れ\" : 2, \"曇\" : 3, \"薄曇\" : 4, \"雨\" : 5, \"雪\" : 6, \"雷電\" : 7}\n",
        "def w(n):\n",
        "  train.iloc[n, 9] = dic[train.iloc[n, 6]]\n",
        "for i in range(207):\n",
        "  w(i)\n",
        "train.head(30)"
      ],
      "execution_count": null,
      "outputs": []
    },
    {
      "cell_type": "code",
      "metadata": {
        "id": "Cz2XrL0PeMxg"
      },
      "source": [
        "test['new_weather'] = 0\n"
      ],
      "execution_count": null,
      "outputs": []
    },
    {
      "cell_type": "code",
      "metadata": {
        "id": "tJCbGihgeURB",
        "colab": {
          "base_uri": "https://localhost:8080/",
          "height": 204
        },
        "outputId": "9ef5b232-ae4f-4c7d-8c83-04f16c0a293c"
      },
      "source": [
        "test.head()"
      ],
      "execution_count": null,
      "outputs": [
        {
          "output_type": "execute_result",
          "data": {
            "text/html": [
              "<div>\n",
              "<style scoped>\n",
              "    .dataframe tbody tr th:only-of-type {\n",
              "        vertical-align: middle;\n",
              "    }\n",
              "\n",
              "    .dataframe tbody tr th {\n",
              "        vertical-align: top;\n",
              "    }\n",
              "\n",
              "    .dataframe thead th {\n",
              "        text-align: right;\n",
              "    }\n",
              "</style>\n",
              "<table border=\"1\" class=\"dataframe\">\n",
              "  <thead>\n",
              "    <tr style=\"text-align: right;\">\n",
              "      <th></th>\n",
              "      <th>datetime</th>\n",
              "      <th>week</th>\n",
              "      <th>soldout</th>\n",
              "      <th>name</th>\n",
              "      <th>kcal</th>\n",
              "      <th>weather</th>\n",
              "      <th>temperature</th>\n",
              "      <th>new_weather</th>\n",
              "    </tr>\n",
              "  </thead>\n",
              "  <tbody>\n",
              "    <tr>\n",
              "      <th>0</th>\n",
              "      <td>2014-10-1</td>\n",
              "      <td>水</td>\n",
              "      <td>1</td>\n",
              "      <td>メンチカツ</td>\n",
              "      <td>420.0</td>\n",
              "      <td>雨</td>\n",
              "      <td>20.2</td>\n",
              "      <td>0</td>\n",
              "    </tr>\n",
              "    <tr>\n",
              "      <th>1</th>\n",
              "      <td>2014-10-2</td>\n",
              "      <td>木</td>\n",
              "      <td>0</td>\n",
              "      <td>バーベキューチキン</td>\n",
              "      <td>415.0</td>\n",
              "      <td>曇</td>\n",
              "      <td>23.9</td>\n",
              "      <td>0</td>\n",
              "    </tr>\n",
              "    <tr>\n",
              "      <th>2</th>\n",
              "      <td>2014-10-3</td>\n",
              "      <td>金</td>\n",
              "      <td>0</td>\n",
              "      <td>豚肉のマスタード焼き</td>\n",
              "      <td>405.0</td>\n",
              "      <td>晴れ</td>\n",
              "      <td>28.7</td>\n",
              "      <td>0</td>\n",
              "    </tr>\n",
              "    <tr>\n",
              "      <th>3</th>\n",
              "      <td>2014-10-6</td>\n",
              "      <td>月</td>\n",
              "      <td>1</td>\n",
              "      <td>麻婆春雨</td>\n",
              "      <td>400.0</td>\n",
              "      <td>雨</td>\n",
              "      <td>21.5</td>\n",
              "      <td>0</td>\n",
              "    </tr>\n",
              "    <tr>\n",
              "      <th>4</th>\n",
              "      <td>2014-10-7</td>\n",
              "      <td>火</td>\n",
              "      <td>0</td>\n",
              "      <td>厚揚げ肉みそ炒め</td>\n",
              "      <td>430.0</td>\n",
              "      <td>晴れ</td>\n",
              "      <td>22.1</td>\n",
              "      <td>0</td>\n",
              "    </tr>\n",
              "  </tbody>\n",
              "</table>\n",
              "</div>"
            ],
            "text/plain": [
              "    datetime week  soldout        name   kcal weather  temperature  new_weather\n",
              "0  2014-10-1    水        1       メンチカツ  420.0       雨         20.2            0\n",
              "1  2014-10-2    木        0   バーベキューチキン  415.0       曇         23.9            0\n",
              "2  2014-10-3    金        0  豚肉のマスタード焼き  405.0      晴れ         28.7            0\n",
              "3  2014-10-6    月        1        麻婆春雨  400.0       雨         21.5            0\n",
              "4  2014-10-7    火        0    厚揚げ肉みそ炒め  430.0      晴れ         22.1            0"
            ]
          },
          "metadata": {
            "tags": []
          },
          "execution_count": 195
        }
      ]
    },
    {
      "cell_type": "code",
      "metadata": {
        "id": "zv5DFq7ne02I"
      },
      "source": [
        "test['weather']"
      ],
      "execution_count": null,
      "outputs": []
    },
    {
      "cell_type": "code",
      "metadata": {
        "id": "7tgIjFv5egKa",
        "colab": {
          "base_uri": "https://localhost:8080/",
          "height": 979
        },
        "outputId": "f928141f-18fd-4ad7-f5e2-4a7ecf86d339"
      },
      "source": [
        "def w_test(n):\n",
        "  test.iloc[n, 7] = dic[test.iloc[n, 5]]\n",
        "for i in range(40):\n",
        "  w_test(i)\n",
        "test.head(30)"
      ],
      "execution_count": null,
      "outputs": [
        {
          "output_type": "execute_result",
          "data": {
            "text/html": [
              "<div>\n",
              "<style scoped>\n",
              "    .dataframe tbody tr th:only-of-type {\n",
              "        vertical-align: middle;\n",
              "    }\n",
              "\n",
              "    .dataframe tbody tr th {\n",
              "        vertical-align: top;\n",
              "    }\n",
              "\n",
              "    .dataframe thead th {\n",
              "        text-align: right;\n",
              "    }\n",
              "</style>\n",
              "<table border=\"1\" class=\"dataframe\">\n",
              "  <thead>\n",
              "    <tr style=\"text-align: right;\">\n",
              "      <th></th>\n",
              "      <th>datetime</th>\n",
              "      <th>week</th>\n",
              "      <th>soldout</th>\n",
              "      <th>name</th>\n",
              "      <th>kcal</th>\n",
              "      <th>weather</th>\n",
              "      <th>temperature</th>\n",
              "      <th>new_weather</th>\n",
              "    </tr>\n",
              "  </thead>\n",
              "  <tbody>\n",
              "    <tr>\n",
              "      <th>0</th>\n",
              "      <td>2014-10-1</td>\n",
              "      <td>水</td>\n",
              "      <td>1</td>\n",
              "      <td>メンチカツ</td>\n",
              "      <td>420.0</td>\n",
              "      <td>雨</td>\n",
              "      <td>20.2</td>\n",
              "      <td>5</td>\n",
              "    </tr>\n",
              "    <tr>\n",
              "      <th>1</th>\n",
              "      <td>2014-10-2</td>\n",
              "      <td>木</td>\n",
              "      <td>0</td>\n",
              "      <td>バーベキューチキン</td>\n",
              "      <td>415.0</td>\n",
              "      <td>曇</td>\n",
              "      <td>23.9</td>\n",
              "      <td>3</td>\n",
              "    </tr>\n",
              "    <tr>\n",
              "      <th>2</th>\n",
              "      <td>2014-10-3</td>\n",
              "      <td>金</td>\n",
              "      <td>0</td>\n",
              "      <td>豚肉のマスタード焼き</td>\n",
              "      <td>405.0</td>\n",
              "      <td>晴れ</td>\n",
              "      <td>28.7</td>\n",
              "      <td>2</td>\n",
              "    </tr>\n",
              "    <tr>\n",
              "      <th>3</th>\n",
              "      <td>2014-10-6</td>\n",
              "      <td>月</td>\n",
              "      <td>1</td>\n",
              "      <td>麻婆春雨</td>\n",
              "      <td>400.0</td>\n",
              "      <td>雨</td>\n",
              "      <td>21.5</td>\n",
              "      <td>5</td>\n",
              "    </tr>\n",
              "    <tr>\n",
              "      <th>4</th>\n",
              "      <td>2014-10-7</td>\n",
              "      <td>火</td>\n",
              "      <td>0</td>\n",
              "      <td>厚揚げ肉みそ炒め</td>\n",
              "      <td>430.0</td>\n",
              "      <td>晴れ</td>\n",
              "      <td>22.1</td>\n",
              "      <td>2</td>\n",
              "    </tr>\n",
              "    <tr>\n",
              "      <th>5</th>\n",
              "      <td>2014-10-8</td>\n",
              "      <td>水</td>\n",
              "      <td>0</td>\n",
              "      <td>完熟トマトのホットカレー</td>\n",
              "      <td>420.0</td>\n",
              "      <td>晴れ</td>\n",
              "      <td>23.3</td>\n",
              "      <td>2</td>\n",
              "    </tr>\n",
              "    <tr>\n",
              "      <th>6</th>\n",
              "      <td>2014-10-9</td>\n",
              "      <td>木</td>\n",
              "      <td>0</td>\n",
              "      <td>豚キムチ炒め</td>\n",
              "      <td>435.0</td>\n",
              "      <td>曇</td>\n",
              "      <td>22.5</td>\n",
              "      <td>3</td>\n",
              "    </tr>\n",
              "    <tr>\n",
              "      <th>7</th>\n",
              "      <td>2014-10-10</td>\n",
              "      <td>金</td>\n",
              "      <td>0</td>\n",
              "      <td>ポークカレー</td>\n",
              "      <td>420.0</td>\n",
              "      <td>薄曇</td>\n",
              "      <td>26.1</td>\n",
              "      <td>4</td>\n",
              "    </tr>\n",
              "    <tr>\n",
              "      <th>8</th>\n",
              "      <td>2014-10-14</td>\n",
              "      <td>火</td>\n",
              "      <td>0</td>\n",
              "      <td>若鶏梅肉包揚げ</td>\n",
              "      <td>408.0</td>\n",
              "      <td>快晴</td>\n",
              "      <td>26.8</td>\n",
              "      <td>1</td>\n",
              "    </tr>\n",
              "    <tr>\n",
              "      <th>9</th>\n",
              "      <td>2014-10-15</td>\n",
              "      <td>水</td>\n",
              "      <td>1</td>\n",
              "      <td>ミックスグリル</td>\n",
              "      <td>450.0</td>\n",
              "      <td>雨</td>\n",
              "      <td>15.6</td>\n",
              "      <td>5</td>\n",
              "    </tr>\n",
              "    <tr>\n",
              "      <th>10</th>\n",
              "      <td>2014-10-16</td>\n",
              "      <td>木</td>\n",
              "      <td>0</td>\n",
              "      <td>豚肉と白菜の中華炒め</td>\n",
              "      <td>400.0</td>\n",
              "      <td>晴れ</td>\n",
              "      <td>18.6</td>\n",
              "      <td>2</td>\n",
              "    </tr>\n",
              "    <tr>\n",
              "      <th>11</th>\n",
              "      <td>2014-10-17</td>\n",
              "      <td>金</td>\n",
              "      <td>0</td>\n",
              "      <td>ヒレカツ</td>\n",
              "      <td>415.0</td>\n",
              "      <td>快晴</td>\n",
              "      <td>23.0</td>\n",
              "      <td>1</td>\n",
              "    </tr>\n",
              "    <tr>\n",
              "      <th>12</th>\n",
              "      <td>2014-10-20</td>\n",
              "      <td>月</td>\n",
              "      <td>1</td>\n",
              "      <td>豚柳川</td>\n",
              "      <td>426.0</td>\n",
              "      <td>薄曇</td>\n",
              "      <td>23.9</td>\n",
              "      <td>4</td>\n",
              "    </tr>\n",
              "    <tr>\n",
              "      <th>13</th>\n",
              "      <td>2014-10-21</td>\n",
              "      <td>火</td>\n",
              "      <td>0</td>\n",
              "      <td>ポーク生姜焼き</td>\n",
              "      <td>410.0</td>\n",
              "      <td>雨</td>\n",
              "      <td>20.2</td>\n",
              "      <td>5</td>\n",
              "    </tr>\n",
              "    <tr>\n",
              "      <th>14</th>\n",
              "      <td>2014-10-22</td>\n",
              "      <td>水</td>\n",
              "      <td>1</td>\n",
              "      <td>麻婆豆腐</td>\n",
              "      <td>415.0</td>\n",
              "      <td>雨</td>\n",
              "      <td>15.5</td>\n",
              "      <td>5</td>\n",
              "    </tr>\n",
              "    <tr>\n",
              "      <th>15</th>\n",
              "      <td>2014-10-23</td>\n",
              "      <td>木</td>\n",
              "      <td>1</td>\n",
              "      <td>ビーフストロガノフ</td>\n",
              "      <td>428.0</td>\n",
              "      <td>雨</td>\n",
              "      <td>14.7</td>\n",
              "      <td>5</td>\n",
              "    </tr>\n",
              "    <tr>\n",
              "      <th>16</th>\n",
              "      <td>2014-10-24</td>\n",
              "      <td>金</td>\n",
              "      <td>0</td>\n",
              "      <td>唐揚げ丼</td>\n",
              "      <td>420.0</td>\n",
              "      <td>快晴</td>\n",
              "      <td>18.7</td>\n",
              "      <td>1</td>\n",
              "    </tr>\n",
              "    <tr>\n",
              "      <th>17</th>\n",
              "      <td>2014-10-27</td>\n",
              "      <td>月</td>\n",
              "      <td>1</td>\n",
              "      <td>マス塩焼き</td>\n",
              "      <td>407.0</td>\n",
              "      <td>薄曇</td>\n",
              "      <td>22.7</td>\n",
              "      <td>4</td>\n",
              "    </tr>\n",
              "    <tr>\n",
              "      <th>18</th>\n",
              "      <td>2014-10-28</td>\n",
              "      <td>火</td>\n",
              "      <td>1</td>\n",
              "      <td>チンジャオロース</td>\n",
              "      <td>425.0</td>\n",
              "      <td>快晴</td>\n",
              "      <td>19.1</td>\n",
              "      <td>1</td>\n",
              "    </tr>\n",
              "    <tr>\n",
              "      <th>19</th>\n",
              "      <td>2014-10-29</td>\n",
              "      <td>水</td>\n",
              "      <td>0</td>\n",
              "      <td>厚切イカフライ</td>\n",
              "      <td>430.0</td>\n",
              "      <td>快晴</td>\n",
              "      <td>19.6</td>\n",
              "      <td>1</td>\n",
              "    </tr>\n",
              "    <tr>\n",
              "      <th>20</th>\n",
              "      <td>2014-10-30</td>\n",
              "      <td>木</td>\n",
              "      <td>0</td>\n",
              "      <td>鶏肉と野菜の黒胡椒炒め</td>\n",
              "      <td>426.0</td>\n",
              "      <td>晴れ</td>\n",
              "      <td>19.6</td>\n",
              "      <td>2</td>\n",
              "    </tr>\n",
              "    <tr>\n",
              "      <th>21</th>\n",
              "      <td>2014-10-31</td>\n",
              "      <td>金</td>\n",
              "      <td>0</td>\n",
              "      <td>八宝菜</td>\n",
              "      <td>436.0</td>\n",
              "      <td>曇</td>\n",
              "      <td>18.8</td>\n",
              "      <td>3</td>\n",
              "    </tr>\n",
              "    <tr>\n",
              "      <th>22</th>\n",
              "      <td>2014-11-4</td>\n",
              "      <td>火</td>\n",
              "      <td>0</td>\n",
              "      <td>豚肉の生姜焼き</td>\n",
              "      <td>440.0</td>\n",
              "      <td>晴れ</td>\n",
              "      <td>18.9</td>\n",
              "      <td>2</td>\n",
              "    </tr>\n",
              "    <tr>\n",
              "      <th>23</th>\n",
              "      <td>2014-11-5</td>\n",
              "      <td>水</td>\n",
              "      <td>1</td>\n",
              "      <td>ハンバーグ</td>\n",
              "      <td>425.0</td>\n",
              "      <td>曇</td>\n",
              "      <td>16.0</td>\n",
              "      <td>3</td>\n",
              "    </tr>\n",
              "    <tr>\n",
              "      <th>24</th>\n",
              "      <td>2014-11-6</td>\n",
              "      <td>木</td>\n",
              "      <td>1</td>\n",
              "      <td>彩り野菜と鶏肉の黒酢あん</td>\n",
              "      <td>410.0</td>\n",
              "      <td>曇</td>\n",
              "      <td>19.2</td>\n",
              "      <td>3</td>\n",
              "    </tr>\n",
              "    <tr>\n",
              "      <th>25</th>\n",
              "      <td>2014-11-7</td>\n",
              "      <td>金</td>\n",
              "      <td>0</td>\n",
              "      <td>ポークカレー</td>\n",
              "      <td>420.0</td>\n",
              "      <td>晴れ</td>\n",
              "      <td>20.1</td>\n",
              "      <td>2</td>\n",
              "    </tr>\n",
              "    <tr>\n",
              "      <th>26</th>\n",
              "      <td>2014-11-10</td>\n",
              "      <td>月</td>\n",
              "      <td>0</td>\n",
              "      <td>親子煮</td>\n",
              "      <td>412.0</td>\n",
              "      <td>快晴</td>\n",
              "      <td>21.2</td>\n",
              "      <td>1</td>\n",
              "    </tr>\n",
              "    <tr>\n",
              "      <th>27</th>\n",
              "      <td>2014-11-11</td>\n",
              "      <td>火</td>\n",
              "      <td>0</td>\n",
              "      <td>ポークのバーベキューソテー</td>\n",
              "      <td>426.0</td>\n",
              "      <td>曇</td>\n",
              "      <td>14.7</td>\n",
              "      <td>3</td>\n",
              "    </tr>\n",
              "    <tr>\n",
              "      <th>28</th>\n",
              "      <td>2014-11-12</td>\n",
              "      <td>水</td>\n",
              "      <td>0</td>\n",
              "      <td>鶏肉の唐揚げ</td>\n",
              "      <td>418.0</td>\n",
              "      <td>曇</td>\n",
              "      <td>14.4</td>\n",
              "      <td>3</td>\n",
              "    </tr>\n",
              "    <tr>\n",
              "      <th>29</th>\n",
              "      <td>2014-11-13</td>\n",
              "      <td>木</td>\n",
              "      <td>1</td>\n",
              "      <td>白身魚味噌焼き</td>\n",
              "      <td>396.0</td>\n",
              "      <td>快晴</td>\n",
              "      <td>19.5</td>\n",
              "      <td>1</td>\n",
              "    </tr>\n",
              "  </tbody>\n",
              "</table>\n",
              "</div>"
            ],
            "text/plain": [
              "      datetime week  soldout  ... weather  temperature new_weather\n",
              "0    2014-10-1    水        1  ...       雨         20.2           5\n",
              "1    2014-10-2    木        0  ...       曇         23.9           3\n",
              "2    2014-10-3    金        0  ...      晴れ         28.7           2\n",
              "3    2014-10-6    月        1  ...       雨         21.5           5\n",
              "4    2014-10-7    火        0  ...      晴れ         22.1           2\n",
              "5    2014-10-8    水        0  ...      晴れ         23.3           2\n",
              "6    2014-10-9    木        0  ...       曇         22.5           3\n",
              "7   2014-10-10    金        0  ...      薄曇         26.1           4\n",
              "8   2014-10-14    火        0  ...      快晴         26.8           1\n",
              "9   2014-10-15    水        1  ...       雨         15.6           5\n",
              "10  2014-10-16    木        0  ...      晴れ         18.6           2\n",
              "11  2014-10-17    金        0  ...      快晴         23.0           1\n",
              "12  2014-10-20    月        1  ...      薄曇         23.9           4\n",
              "13  2014-10-21    火        0  ...       雨         20.2           5\n",
              "14  2014-10-22    水        1  ...       雨         15.5           5\n",
              "15  2014-10-23    木        1  ...       雨         14.7           5\n",
              "16  2014-10-24    金        0  ...      快晴         18.7           1\n",
              "17  2014-10-27    月        1  ...      薄曇         22.7           4\n",
              "18  2014-10-28    火        1  ...      快晴         19.1           1\n",
              "19  2014-10-29    水        0  ...      快晴         19.6           1\n",
              "20  2014-10-30    木        0  ...      晴れ         19.6           2\n",
              "21  2014-10-31    金        0  ...       曇         18.8           3\n",
              "22   2014-11-4    火        0  ...      晴れ         18.9           2\n",
              "23   2014-11-5    水        1  ...       曇         16.0           3\n",
              "24   2014-11-6    木        1  ...       曇         19.2           3\n",
              "25   2014-11-7    金        0  ...      晴れ         20.1           2\n",
              "26  2014-11-10    月        0  ...      快晴         21.2           1\n",
              "27  2014-11-11    火        0  ...       曇         14.7           3\n",
              "28  2014-11-12    水        0  ...       曇         14.4           3\n",
              "29  2014-11-13    木        1  ...      快晴         19.5           1\n",
              "\n",
              "[30 rows x 8 columns]"
            ]
          },
          "metadata": {
            "tags": []
          },
          "execution_count": 211
        }
      ]
    },
    {
      "cell_type": "code",
      "metadata": {
        "id": "Kz58RSwMb3bW",
        "colab": {
          "base_uri": "https://localhost:8080/",
          "height": 34
        },
        "outputId": "e14d0bb1-4228-4b84-fb3c-14433ee4aba4"
      },
      "source": [
        "#カロリーを説明変数とする\n",
        "X_train = train['new_weather']\n",
        "#売上個数を目的変数とする\n",
        "y_train = train['y']\n",
        "#予測用データ\n",
        "X_test = test['new_weather']\n",
        "\n",
        "X_train = X_train.values.reshape(-1, 1)\n",
        "X_test = X_test.values.reshape(-1, 1)\n",
        "X_train[:5]\n",
        "\n",
        "model2 = LR()\n",
        "model2.fit(X_train, y_train)\n",
        "model2.coef_ #傾き"
      ],
      "execution_count": null,
      "outputs": [
        {
          "output_type": "execute_result",
          "data": {
            "text/plain": [
              "array([-5.51080325])"
            ]
          },
          "metadata": {
            "tags": []
          },
          "execution_count": 198
        }
      ]
    },
    {
      "cell_type": "code",
      "metadata": {
        "id": "_Xrcur0fdSd6",
        "colab": {
          "base_uri": "https://localhost:8080/",
          "height": 34
        },
        "outputId": "2aded05e-a754-4c5a-a51b-e7e6bb846daa"
      },
      "source": [
        "model2.intercept_ #切片"
      ],
      "execution_count": null,
      "outputs": [
        {
          "output_type": "execute_result",
          "data": {
            "text/plain": [
              "101.13230808337569"
            ]
          },
          "metadata": {
            "tags": []
          },
          "execution_count": 199
        }
      ]
    },
    {
      "cell_type": "code",
      "metadata": {
        "id": "YADga1x6HAf-",
        "colab": {
          "base_uri": "https://localhost:8080/",
          "height": 280
        },
        "outputId": "898b687c-8b12-4c5e-8583-feb1dc62d221"
      },
      "source": [
        "#販売数と天気の関係を調べる\n",
        "plt.plot(train['new_weather'], train['y'], 'o')\n",
        "plt.ylabel('y')\n",
        "plt.xlabel('new_weather')\n",
        "plt.grid(True)"
      ],
      "execution_count": null,
      "outputs": [
        {
          "output_type": "display_data",
          "data": {
            "image/png": "[encoded data removed]",
            "text/plain": [
              "<Figure size 432x288 with 1 Axes>"
            ]
          },
          "metadata": {
            "tags": [],
            "needs_background": "light"
          }
        }
      ]
    },
    {
      "cell_type": "code",
      "metadata": {
        "id": "aKEGk8q9s5JS",
        "colab": {
          "base_uri": "https://localhost:8080/",
          "height": 34
        },
        "outputId": "b4a273e4-a7d7-4f1a-a938-41c4d7cb3c7c"
      },
      "source": [
        "model2.score(X_train, y_train) #検証"
      ],
      "execution_count": null,
      "outputs": [
        {
          "output_type": "execute_result",
          "data": {
            "text/plain": [
              "0.051823687937274765"
            ]
          },
          "metadata": {
            "tags": []
          },
          "execution_count": 201
        }
      ]
    },
    {
      "cell_type": "code",
      "metadata": {
        "id": "XsrRkOnQs_wv",
        "colab": {
          "base_uri": "https://localhost:8080/",
          "height": 136
        },
        "outputId": "9559366a-c2cf-4970-b328-3e1c5831af9c"
      },
      "source": [
        "pred2 = model2.predict(X_test)\n",
        "print(pred2)"
      ],
      "execution_count": null,
      "outputs": [
        {
          "output_type": "stream",
          "text": [
            "[73.57829181 84.59989832 90.11070158 73.57829181 90.11070158 90.11070158\n",
            " 84.59989832 79.08909507 95.62150483 73.57829181 90.11070158 95.62150483\n",
            " 79.08909507 73.57829181 73.57829181 73.57829181 95.62150483 79.08909507\n",
            " 95.62150483 95.62150483 90.11070158 84.59989832 90.11070158 84.59989832\n",
            " 84.59989832 90.11070158 95.62150483 84.59989832 84.59989832 95.62150483\n",
            " 95.62150483 79.08909507 95.62150483 95.62150483 84.59989832 95.62150483\n",
            " 73.57829181 73.57829181 95.62150483 84.59989832]\n"
          ],
          "name": "stdout"
        }
      ]
    },
    {
      "cell_type": "markdown",
      "metadata": {
        "id": "izcA2MHNfTlu"
      },
      "source": [
        "## ランダムフォレスト"
      ]
    },
    {
      "cell_type": "code",
      "metadata": {
        "id": "0thhWm_Wc7NG"
      },
      "source": [
        "def learning(train,y_train):\n",
        "    model3 = RF(n_estimators=100,max_depth=4,random_state=777)\n",
        "    pred2 = model2.predict(train[\"days\"].values.reshape(-1,1))\n",
        "    #print(pred)\n",
        "    pred2_sub = y_train - pred2\n",
        "    #print(pred_sub)\n",
        "    model3.fit(train.iloc[:, train.columns.str.match(\"y\")],pred2_sub)\n",
        "    return model3"
      ],
      "execution_count": null,
      "outputs": []
    },
    {
      "cell_type": "code",
      "metadata": {
        "id": "CUxot57KhtdU",
        "colab": {
          "base_uri": "https://localhost:8080/",
          "height": 136
        },
        "outputId": "122f0474-6def-4121-a9a8-24b1067c41bb"
      },
      "source": [
        "print(pred2)"
      ],
      "execution_count": null,
      "outputs": [
        {
          "output_type": "stream",
          "text": [
            "[73.57829181 84.59989832 90.11070158 73.57829181 90.11070158 90.11070158\n",
            " 84.59989832 79.08909507 95.62150483 73.57829181 90.11070158 95.62150483\n",
            " 79.08909507 73.57829181 73.57829181 73.57829181 95.62150483 79.08909507\n",
            " 95.62150483 95.62150483 90.11070158 84.59989832 90.11070158 84.59989832\n",
            " 84.59989832 90.11070158 95.62150483 84.59989832 84.59989832 95.62150483\n",
            " 95.62150483 79.08909507 95.62150483 95.62150483 84.59989832 95.62150483\n",
            " 73.57829181 73.57829181 95.62150483 84.59989832]\n"
          ],
          "name": "stdout"
        }
      ]
    },
    {
      "cell_type": "code",
      "metadata": {
        "id": "pDZw1q9bh4SP",
        "colab": {
          "base_uri": "https://localhost:8080/",
          "height": 221
        },
        "outputId": "6a2887cd-c3b8-4b55-f08c-6a6b44428c0b"
      },
      "source": [
        "print(y_train)"
      ],
      "execution_count": null,
      "outputs": [
        {
          "output_type": "stream",
          "text": [
            "0       90\n",
            "1      101\n",
            "2      118\n",
            "3      120\n",
            "4      130\n",
            "      ... \n",
            "202     59\n",
            "203     50\n",
            "204     45\n",
            "205     56\n",
            "206     40\n",
            "Name: y, Length: 207, dtype: int64\n"
          ],
          "name": "stdout"
        }
      ]
    },
    {
      "cell_type": "code",
      "metadata": {
        "id": "HGxKAn70cr4q",
        "colab": {
          "base_uri": "https://localhost:8080/",
          "height": 111
        },
        "outputId": "6043ef4a-d14d-4a28-c3f9-d3606694f8e5"
      },
      "source": [
        "from sklearn.ensemble import RandomForestRegressor as RF, GradientBoostingRegressor\n",
        "\n",
        "#ランダムフォレストと勾配ブースティングのパラメータ設定\n",
        "models = {\n",
        "    'RandomForest':RF(random_state=0),\n",
        "    'GradientBoost':GradientBoostingRegressor(random_state=0)\n",
        "}\n",
        "\n",
        "y_test = pred2\n",
        "#モデル構築\n",
        "scores = {}\n",
        "for model_name, model in models.items():\n",
        "  model.fit(X_train,y_train)\n",
        "  scores[(model_name,'train_score')] = model.score(X_train, y_train)\n",
        "  scores[(model_name,'test_score')] = model.score(X_test, y_test)\n",
        "\n",
        "#結果を表示\n",
        "pd.Series(scores).unstack()"
      ],
      "execution_count": null,
      "outputs": [
        {
          "output_type": "execute_result",
          "data": {
            "text/html": [
              "<div>\n",
              "<style scoped>\n",
              "    .dataframe tbody tr th:only-of-type {\n",
              "        vertical-align: middle;\n",
              "    }\n",
              "\n",
              "    .dataframe tbody tr th {\n",
              "        vertical-align: top;\n",
              "    }\n",
              "\n",
              "    .dataframe thead th {\n",
              "        text-align: right;\n",
              "    }\n",
              "</style>\n",
              "<table border=\"1\" class=\"dataframe\">\n",
              "  <thead>\n",
              "    <tr style=\"text-align: right;\">\n",
              "      <th></th>\n",
              "      <th>test_score</th>\n",
              "      <th>train_score</th>\n",
              "    </tr>\n",
              "  </thead>\n",
              "  <tbody>\n",
              "    <tr>\n",
              "      <th>GradientBoost</th>\n",
              "      <td>0.208512</td>\n",
              "      <td>0.104216</td>\n",
              "    </tr>\n",
              "    <tr>\n",
              "      <th>RandomForest</th>\n",
              "      <td>0.139942</td>\n",
              "      <td>0.103322</td>\n",
              "    </tr>\n",
              "  </tbody>\n",
              "</table>\n",
              "</div>"
            ],
            "text/plain": [
              "               test_score  train_score\n",
              "GradientBoost    0.208512     0.104216\n",
              "RandomForest     0.139942     0.103322"
            ]
          },
          "metadata": {
            "tags": []
          },
          "execution_count": 204
        }
      ]
    },
    {
      "cell_type": "code",
      "metadata": {
        "id": "1oT4tHLLcs9J",
        "colab": {
          "base_uri": "https://localhost:8080/",
          "height": 282
        },
        "outputId": "751afff8-a343-43fa-e71c-5d12e68538c6"
      },
      "source": [
        "from sklearn.metrics import mean_squared_error as MSE\n",
        "model3 = learning(train,y_train)\n",
        "pred2 = model.predict(X_train) + model3.predict(train.iloc[:,train.columns.str.match(\"y\")])\n",
        "\n",
        "p = pd.DataFrame({\"actual\":y_train,\"pred\":pred2})\n",
        "# p.set_xlabel('days')\n",
        "# p.set_ylabel('y')\n",
        "\n",
        "p.plot(figsize=(15,4))\n",
        "print(\"RMSE\",MSE(y_train,pred2)**0.5)\n",
        "\n",
        "#縦軸：売上個数\n",
        "#横軸：日にち\n",
        "#結果：天気による予測は効果的でない"
      ],
      "execution_count": null,
      "outputs": [
        {
          "output_type": "stream",
          "text": [
            "RMSE 496.8463766867109\n"
          ],
          "name": "stdout"
        },
        {
          "output_type": "display_data",
          "data": {
            "image/png": "[encoded data removed]",
            "text/plain": [
              "<Figure size 1080x288 with 1 Axes>"
            ]
          },
          "metadata": {
            "tags": [],
            "needs_background": "light"
          }
        }
      ]
    }
  ]
}